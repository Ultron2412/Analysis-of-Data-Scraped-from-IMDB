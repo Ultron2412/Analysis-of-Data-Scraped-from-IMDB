{
 "cells": [
  {
   "cell_type": "markdown",
   "metadata": {},
   "source": [
    "## Importing Webpage of IMDB to HTML"
   ]
  },
  {
   "cell_type": "code",
   "execution_count": 1,
   "metadata": {},
   "outputs": [
    {
     "name": "stdout",
     "output_type": "stream",
     "text": [
      "\n",
      "\n",
      "\n",
      "\n",
      "\n",
      "<!DOCTYPE html>\n",
      "<html\n",
      "xmlns:og=\"http://ogp.me/ns#\"\n",
      "xmlns:fb=\"http://www.facebook.com/2008/fbml\">\n",
      "    <head>\n",
      "         \n",
      "        <meta charset=\"utf-8\">\n",
      "        <meta http-equiv=\"X-UA-Compatible\" con\n"
     ]
    }
   ],
   "source": [
    "from requests import get\n",
    "from bs4 import BeautifulSoup\n",
    "url = 'https://www.imdb.com/list/ls008706900/'\n",
    "\n",
    "response = get(url)\n",
    "print(response.text[:200])"
   ]
  },
  {
   "cell_type": "code",
   "execution_count": 2,
   "metadata": {},
   "outputs": [
    {
     "data": {
      "text/plain": [
       "bs4.BeautifulSoup"
      ]
     },
     "execution_count": 2,
     "metadata": {},
     "output_type": "execute_result"
    }
   ],
   "source": [
    "html_soup = BeautifulSoup(response.text, 'html.parser')\n",
    "type(html_soup)"
   ]
  },
  {
   "cell_type": "code",
   "execution_count": 3,
   "metadata": {},
   "outputs": [
    {
     "name": "stdout",
     "output_type": "stream",
     "text": [
      "<class 'bs4.element.ResultSet'>\n",
      "100\n"
     ]
    }
   ],
   "source": [
    "movie_headers = html_soup.find_all('div', class_ = 'lister-item mode-detail')\n",
    "print(type(movie_headers))\n",
    "print(len(movie_headers))"
   ]
  },
  {
   "cell_type": "markdown",
   "metadata": {},
   "source": [
    "### Analysis of HTML script to scrape data"
   ]
  },
  {
   "cell_type": "code",
   "execution_count": 46,
   "metadata": {},
   "outputs": [
    {
     "data": {
      "text/plain": [
       "<div class=\"lister-item mode-detail\">\n",
       "<div class=\"lister-item-image ribbonize\" data-tconst=\"tt0073707\">\n",
       "<a href=\"/title/tt0073707/?ref_=ttls_li_i\"> <img alt=\"Sholay\" class=\"loadlate\" data-tconst=\"tt0073707\" height=\"209\" loadlate=\"https://m.media-amazon.com/images/M/MV5BMjEzOTM4MTY1Nl5BMl5BanBnXkFtZTgwOTc0MjkwMzE@._V1_UY209_CR9,0,140,209_AL_.jpg\" src=\"https://m.media-amazon.com/images/G/01/imdb/images/nopicture/large/film-184890147._CB499613450_.png\" width=\"140\"/>\n",
       "</a> </div>\n",
       "<div class=\"lister-item-content\">\n",
       "<h3 class=\"lister-item-header\">\n",
       "<span class=\"lister-item-index unbold text-primary\">1.</span>\n",
       "<a href=\"/title/tt0073707/?ref_=ttls_li_tt\">Sholay</a>\n",
       "<span class=\"lister-item-year text-muted unbold\">(1975)</span>\n",
       "</h3>\n",
       "<p class=\"text-muted text-small\">\n",
       "<span class=\"certificate\">Not Rated</span>\n",
       "<span class=\"ghost\">|</span>\n",
       "<span class=\"runtime\">198 min</span>\n",
       "<span class=\"ghost\">|</span>\n",
       "<span class=\"genre\">\n",
       "Action, Adventure, Comedy            </span>\n",
       "</p>\n",
       "<div class=\"ipl-rating-widget\">\n",
       "<div class=\"ipl-rating-star small\">\n",
       "<span class=\"ipl-rating-star__star\">\n",
       "<svg class=\"ipl-star-icon\" fill=\"#000000\" height=\"24\" viewbox=\"0 0 24 24\" width=\"24\" xmlns=\"http://www.w3.org/2000/svg\">\n",
       "<path d=\"M0 0h24v24H0z\" fill=\"none\"></path>\n",
       "<path d=\"M12 17.27L18.18 21l-1.64-7.03L22 9.24l-7.19-.61L12 2 9.19 8.63 2 9.24l5.46 4.73L5.82 21z\"></path>\n",
       "<path d=\"M0 0h24v24H0z\" fill=\"none\"></path>\n",
       "</svg>\n",
       "</span>\n",
       "<span class=\"ipl-rating-star__rating\">8.2</span>\n",
       "</div>\n",
       "<div class=\"ipl-rating-interactive small ipl-rating-interactive--no-rating\">\n",
       "<input class=\"ipl-rating-interactive__state\" data-reftag=\"ur_rt\" data-tconst=\"tt0073707\" id=\"checkbox-tt0073707\" type=\"checkbox\"/>\n",
       "<label class=\"ipl-rating-interactive__star-container\" for=\"checkbox-tt0073707\">\n",
       "<div class=\"ipl-rating-star ipl-rating-interactive__star\">\n",
       "<span class=\"ipl-rating-star__star\">\n",
       "<svg class=\"ipl-star-icon\" fill=\"#000000\" height=\"24\" viewbox=\"0 0 24 24\" width=\"24\" xmlns=\"http://www.w3.org/2000/svg\">\n",
       "<path d=\"M0 0h24v24H0z\" fill=\"none\"></path>\n",
       "<path d=\"M12 17.27L18.18 21l-1.64-7.03L22 9.24l-7.19-.61L12 2 9.19 8.63 2 9.24l5.46 4.73L5.82 21z\"></path>\n",
       "<path d=\"M0 0h24v24H0z\" fill=\"none\"></path>\n",
       "</svg>\n",
       "</span>\n",
       "<span class=\"ipl-rating-star__rating\">0</span>\n",
       "</div>\n",
       "<div class=\"ipl-rating-star ipl-rating-interactive__star--empty \">\n",
       "<span class=\"ipl-rating-star__star\">\n",
       "<svg class=\"ipl-star-border-icon\" fill=\"#000000\" height=\"24\" viewbox=\"0 0 24 24\" width=\"24\" xmlns=\"http://www.w3.org/2000/svg\">\n",
       "<path d=\"M22 9.24l-7.19-.62L12 2 9.19 8.63 2 9.24l5.46 4.73L5.82 21 12 17.27 18.18 21l-1.63-7.03L22 9.24zM12 15.4l-3.76 2.27 1-4.28-3.32-2.88 4.38-.38L12 6.1l1.71 4.04 4.38.38-3.32 2.88 1 4.28L12 15.4z\"></path>\n",
       "<path d=\"M0 0h24v24H0z\" fill=\"none\"></path>\n",
       "</svg>\n",
       "</span>\n",
       "<span class=\"ipl-rating-star__rating\">Rate</span>\n",
       "</div>\n",
       "</label>\n",
       "<div class=\"ipl-rating-selector\" data-value=\"0\" id=\"ipl-rating-selector-tt0073707\">\n",
       "<div class=\"ipl-rating-selector__selector ipl-rating-selector__wrapper\">\n",
       "<div class=\"ipl-rating-selector__reset\">\n",
       "<a href=\"#void\"> <svg class=\"ipl-cancel-icon\" fill=\"#000000\" height=\"24\" viewbox=\"0 0 24 24\" width=\"24\" xmlns=\"http://www.w3.org/2000/svg\">\n",
       "<path d=\"M12 2C6.47 2 2 6.47 2 12s4.47 10 10 10 10-4.47 10-10S17.53 2 12 2zm5 13.59L15.59 17 12 13.41 8.41 17 7 15.59 10.59 12 7 8.41 8.41 7 12 10.59 15.59 7 17 8.41 13.41 12 17 15.59z\"></path>\n",
       "<path d=\"M0 0h24v24H0z\" fill=\"none\"></path>\n",
       "</svg>\n",
       "</a>\n",
       "</div>\n",
       "<span class=\"ipl-rating-selector__divider\"></span>\n",
       "<form action=\"/ratings/_ajax/title\" class=\"ipl-rating-selector__star-list\" method=\"post\">\n",
       "<a class=\"ipl-rating-selector__star-link \" data-value=\"1\" href=\"#void\">\n",
       "<div class=\"ipl-rating-star ipl-rating-interactive__star\">\n",
       "<span class=\"ipl-rating-star__star\">\n",
       "<svg class=\"ipl-star-icon\" fill=\"#000000\" height=\"24\" viewbox=\"0 0 24 24\" width=\"24\" xmlns=\"http://www.w3.org/2000/svg\">\n",
       "<path d=\"M0 0h24v24H0z\" fill=\"none\"></path>\n",
       "<path d=\"M12 17.27L18.18 21l-1.64-7.03L22 9.24l-7.19-.61L12 2 9.19 8.63 2 9.24l5.46 4.73L5.82 21z\"></path>\n",
       "<path d=\"M0 0h24v24H0z\" fill=\"none\"></path>\n",
       "</svg>\n",
       "</span>\n",
       "<span class=\"ipl-rating-star__rating\">1</span>\n",
       "</div>\n",
       "<div class=\"ipl-rating-star ipl-rating-interactive__star--empty \">\n",
       "<span class=\"ipl-rating-star__star\">\n",
       "<svg class=\"ipl-star-border-icon\" fill=\"#000000\" height=\"24\" viewbox=\"0 0 24 24\" width=\"24\" xmlns=\"http://www.w3.org/2000/svg\">\n",
       "<path d=\"M22 9.24l-7.19-.62L12 2 9.19 8.63 2 9.24l5.46 4.73L5.82 21 12 17.27 18.18 21l-1.63-7.03L22 9.24zM12 15.4l-3.76 2.27 1-4.28-3.32-2.88 4.38-.38L12 6.1l1.71 4.04 4.38.38-3.32 2.88 1 4.28L12 15.4z\"></path>\n",
       "<path d=\"M0 0h24v24H0z\" fill=\"none\"></path>\n",
       "</svg>\n",
       "</span>\n",
       "<span class=\"ipl-rating-star__rating\">Rate</span>\n",
       "</div>\n",
       "</a>\n",
       "<a class=\"ipl-rating-selector__star-link \" data-value=\"2\" href=\"#void\">\n",
       "<div class=\"ipl-rating-star ipl-rating-interactive__star\">\n",
       "<span class=\"ipl-rating-star__star\">\n",
       "<svg class=\"ipl-star-icon\" fill=\"#000000\" height=\"24\" viewbox=\"0 0 24 24\" width=\"24\" xmlns=\"http://www.w3.org/2000/svg\">\n",
       "<path d=\"M0 0h24v24H0z\" fill=\"none\"></path>\n",
       "<path d=\"M12 17.27L18.18 21l-1.64-7.03L22 9.24l-7.19-.61L12 2 9.19 8.63 2 9.24l5.46 4.73L5.82 21z\"></path>\n",
       "<path d=\"M0 0h24v24H0z\" fill=\"none\"></path>\n",
       "</svg>\n",
       "</span>\n",
       "<span class=\"ipl-rating-star__rating\">2</span>\n",
       "</div>\n",
       "<div class=\"ipl-rating-star ipl-rating-interactive__star--empty \">\n",
       "<span class=\"ipl-rating-star__star\">\n",
       "<svg class=\"ipl-star-border-icon\" fill=\"#000000\" height=\"24\" viewbox=\"0 0 24 24\" width=\"24\" xmlns=\"http://www.w3.org/2000/svg\">\n",
       "<path d=\"M22 9.24l-7.19-.62L12 2 9.19 8.63 2 9.24l5.46 4.73L5.82 21 12 17.27 18.18 21l-1.63-7.03L22 9.24zM12 15.4l-3.76 2.27 1-4.28-3.32-2.88 4.38-.38L12 6.1l1.71 4.04 4.38.38-3.32 2.88 1 4.28L12 15.4z\"></path>\n",
       "<path d=\"M0 0h24v24H0z\" fill=\"none\"></path>\n",
       "</svg>\n",
       "</span>\n",
       "<span class=\"ipl-rating-star__rating\">Rate</span>\n",
       "</div>\n",
       "</a>\n",
       "<a class=\"ipl-rating-selector__star-link \" data-value=\"3\" href=\"#void\">\n",
       "<div class=\"ipl-rating-star ipl-rating-interactive__star\">\n",
       "<span class=\"ipl-rating-star__star\">\n",
       "<svg class=\"ipl-star-icon\" fill=\"#000000\" height=\"24\" viewbox=\"0 0 24 24\" width=\"24\" xmlns=\"http://www.w3.org/2000/svg\">\n",
       "<path d=\"M0 0h24v24H0z\" fill=\"none\"></path>\n",
       "<path d=\"M12 17.27L18.18 21l-1.64-7.03L22 9.24l-7.19-.61L12 2 9.19 8.63 2 9.24l5.46 4.73L5.82 21z\"></path>\n",
       "<path d=\"M0 0h24v24H0z\" fill=\"none\"></path>\n",
       "</svg>\n",
       "</span>\n",
       "<span class=\"ipl-rating-star__rating\">3</span>\n",
       "</div>\n",
       "<div class=\"ipl-rating-star ipl-rating-interactive__star--empty \">\n",
       "<span class=\"ipl-rating-star__star\">\n",
       "<svg class=\"ipl-star-border-icon\" fill=\"#000000\" height=\"24\" viewbox=\"0 0 24 24\" width=\"24\" xmlns=\"http://www.w3.org/2000/svg\">\n",
       "<path d=\"M22 9.24l-7.19-.62L12 2 9.19 8.63 2 9.24l5.46 4.73L5.82 21 12 17.27 18.18 21l-1.63-7.03L22 9.24zM12 15.4l-3.76 2.27 1-4.28-3.32-2.88 4.38-.38L12 6.1l1.71 4.04 4.38.38-3.32 2.88 1 4.28L12 15.4z\"></path>\n",
       "<path d=\"M0 0h24v24H0z\" fill=\"none\"></path>\n",
       "</svg>\n",
       "</span>\n",
       "<span class=\"ipl-rating-star__rating\">Rate</span>\n",
       "</div>\n",
       "</a>\n",
       "<a class=\"ipl-rating-selector__star-link \" data-value=\"4\" href=\"#void\">\n",
       "<div class=\"ipl-rating-star ipl-rating-interactive__star\">\n",
       "<span class=\"ipl-rating-star__star\">\n",
       "<svg class=\"ipl-star-icon\" fill=\"#000000\" height=\"24\" viewbox=\"0 0 24 24\" width=\"24\" xmlns=\"http://www.w3.org/2000/svg\">\n",
       "<path d=\"M0 0h24v24H0z\" fill=\"none\"></path>\n",
       "<path d=\"M12 17.27L18.18 21l-1.64-7.03L22 9.24l-7.19-.61L12 2 9.19 8.63 2 9.24l5.46 4.73L5.82 21z\"></path>\n",
       "<path d=\"M0 0h24v24H0z\" fill=\"none\"></path>\n",
       "</svg>\n",
       "</span>\n",
       "<span class=\"ipl-rating-star__rating\">4</span>\n",
       "</div>\n",
       "<div class=\"ipl-rating-star ipl-rating-interactive__star--empty \">\n",
       "<span class=\"ipl-rating-star__star\">\n",
       "<svg class=\"ipl-star-border-icon\" fill=\"#000000\" height=\"24\" viewbox=\"0 0 24 24\" width=\"24\" xmlns=\"http://www.w3.org/2000/svg\">\n",
       "<path d=\"M22 9.24l-7.19-.62L12 2 9.19 8.63 2 9.24l5.46 4.73L5.82 21 12 17.27 18.18 21l-1.63-7.03L22 9.24zM12 15.4l-3.76 2.27 1-4.28-3.32-2.88 4.38-.38L12 6.1l1.71 4.04 4.38.38-3.32 2.88 1 4.28L12 15.4z\"></path>\n",
       "<path d=\"M0 0h24v24H0z\" fill=\"none\"></path>\n",
       "</svg>\n",
       "</span>\n",
       "<span class=\"ipl-rating-star__rating\">Rate</span>\n",
       "</div>\n",
       "</a>\n",
       "<a class=\"ipl-rating-selector__star-link \" data-value=\"5\" href=\"#void\">\n",
       "<div class=\"ipl-rating-star ipl-rating-interactive__star\">\n",
       "<span class=\"ipl-rating-star__star\">\n",
       "<svg class=\"ipl-star-icon\" fill=\"#000000\" height=\"24\" viewbox=\"0 0 24 24\" width=\"24\" xmlns=\"http://www.w3.org/2000/svg\">\n",
       "<path d=\"M0 0h24v24H0z\" fill=\"none\"></path>\n",
       "<path d=\"M12 17.27L18.18 21l-1.64-7.03L22 9.24l-7.19-.61L12 2 9.19 8.63 2 9.24l5.46 4.73L5.82 21z\"></path>\n",
       "<path d=\"M0 0h24v24H0z\" fill=\"none\"></path>\n",
       "</svg>\n",
       "</span>\n",
       "<span class=\"ipl-rating-star__rating\">5</span>\n",
       "</div>\n",
       "<div class=\"ipl-rating-star ipl-rating-interactive__star--empty \">\n",
       "<span class=\"ipl-rating-star__star\">\n",
       "<svg class=\"ipl-star-border-icon\" fill=\"#000000\" height=\"24\" viewbox=\"0 0 24 24\" width=\"24\" xmlns=\"http://www.w3.org/2000/svg\">\n",
       "<path d=\"M22 9.24l-7.19-.62L12 2 9.19 8.63 2 9.24l5.46 4.73L5.82 21 12 17.27 18.18 21l-1.63-7.03L22 9.24zM12 15.4l-3.76 2.27 1-4.28-3.32-2.88 4.38-.38L12 6.1l1.71 4.04 4.38.38-3.32 2.88 1 4.28L12 15.4z\"></path>\n",
       "<path d=\"M0 0h24v24H0z\" fill=\"none\"></path>\n",
       "</svg>\n",
       "</span>\n",
       "<span class=\"ipl-rating-star__rating\">Rate</span>\n",
       "</div>\n",
       "</a>\n",
       "<a class=\"ipl-rating-selector__star-link \" data-value=\"6\" href=\"#void\">\n",
       "<div class=\"ipl-rating-star ipl-rating-interactive__star\">\n",
       "<span class=\"ipl-rating-star__star\">\n",
       "<svg class=\"ipl-star-icon\" fill=\"#000000\" height=\"24\" viewbox=\"0 0 24 24\" width=\"24\" xmlns=\"http://www.w3.org/2000/svg\">\n",
       "<path d=\"M0 0h24v24H0z\" fill=\"none\"></path>\n",
       "<path d=\"M12 17.27L18.18 21l-1.64-7.03L22 9.24l-7.19-.61L12 2 9.19 8.63 2 9.24l5.46 4.73L5.82 21z\"></path>\n",
       "<path d=\"M0 0h24v24H0z\" fill=\"none\"></path>\n",
       "</svg>\n",
       "</span>\n",
       "<span class=\"ipl-rating-star__rating\">6</span>\n",
       "</div>\n",
       "<div class=\"ipl-rating-star ipl-rating-interactive__star--empty \">\n",
       "<span class=\"ipl-rating-star__star\">\n",
       "<svg class=\"ipl-star-border-icon\" fill=\"#000000\" height=\"24\" viewbox=\"0 0 24 24\" width=\"24\" xmlns=\"http://www.w3.org/2000/svg\">\n",
       "<path d=\"M22 9.24l-7.19-.62L12 2 9.19 8.63 2 9.24l5.46 4.73L5.82 21 12 17.27 18.18 21l-1.63-7.03L22 9.24zM12 15.4l-3.76 2.27 1-4.28-3.32-2.88 4.38-.38L12 6.1l1.71 4.04 4.38.38-3.32 2.88 1 4.28L12 15.4z\"></path>\n",
       "<path d=\"M0 0h24v24H0z\" fill=\"none\"></path>\n",
       "</svg>\n",
       "</span>\n",
       "<span class=\"ipl-rating-star__rating\">Rate</span>\n",
       "</div>\n",
       "</a>\n",
       "<a class=\"ipl-rating-selector__star-link \" data-value=\"7\" href=\"#void\">\n",
       "<div class=\"ipl-rating-star ipl-rating-interactive__star\">\n",
       "<span class=\"ipl-rating-star__star\">\n",
       "<svg class=\"ipl-star-icon\" fill=\"#000000\" height=\"24\" viewbox=\"0 0 24 24\" width=\"24\" xmlns=\"http://www.w3.org/2000/svg\">\n",
       "<path d=\"M0 0h24v24H0z\" fill=\"none\"></path>\n",
       "<path d=\"M12 17.27L18.18 21l-1.64-7.03L22 9.24l-7.19-.61L12 2 9.19 8.63 2 9.24l5.46 4.73L5.82 21z\"></path>\n",
       "<path d=\"M0 0h24v24H0z\" fill=\"none\"></path>\n",
       "</svg>\n",
       "</span>\n",
       "<span class=\"ipl-rating-star__rating\">7</span>\n",
       "</div>\n",
       "<div class=\"ipl-rating-star ipl-rating-interactive__star--empty \">\n",
       "<span class=\"ipl-rating-star__star\">\n",
       "<svg class=\"ipl-star-border-icon\" fill=\"#000000\" height=\"24\" viewbox=\"0 0 24 24\" width=\"24\" xmlns=\"http://www.w3.org/2000/svg\">\n",
       "<path d=\"M22 9.24l-7.19-.62L12 2 9.19 8.63 2 9.24l5.46 4.73L5.82 21 12 17.27 18.18 21l-1.63-7.03L22 9.24zM12 15.4l-3.76 2.27 1-4.28-3.32-2.88 4.38-.38L12 6.1l1.71 4.04 4.38.38-3.32 2.88 1 4.28L12 15.4z\"></path>\n",
       "<path d=\"M0 0h24v24H0z\" fill=\"none\"></path>\n",
       "</svg>\n",
       "</span>\n",
       "<span class=\"ipl-rating-star__rating\">Rate</span>\n",
       "</div>\n",
       "</a>\n",
       "<a class=\"ipl-rating-selector__star-link \" data-value=\"8\" href=\"#void\">\n",
       "<div class=\"ipl-rating-star ipl-rating-interactive__star\">\n",
       "<span class=\"ipl-rating-star__star\">\n",
       "<svg class=\"ipl-star-icon\" fill=\"#000000\" height=\"24\" viewbox=\"0 0 24 24\" width=\"24\" xmlns=\"http://www.w3.org/2000/svg\">\n",
       "<path d=\"M0 0h24v24H0z\" fill=\"none\"></path>\n",
       "<path d=\"M12 17.27L18.18 21l-1.64-7.03L22 9.24l-7.19-.61L12 2 9.19 8.63 2 9.24l5.46 4.73L5.82 21z\"></path>\n",
       "<path d=\"M0 0h24v24H0z\" fill=\"none\"></path>\n",
       "</svg>\n",
       "</span>\n",
       "<span class=\"ipl-rating-star__rating\">8</span>\n",
       "</div>\n",
       "<div class=\"ipl-rating-star ipl-rating-interactive__star--empty \">\n",
       "<span class=\"ipl-rating-star__star\">\n",
       "<svg class=\"ipl-star-border-icon\" fill=\"#000000\" height=\"24\" viewbox=\"0 0 24 24\" width=\"24\" xmlns=\"http://www.w3.org/2000/svg\">\n",
       "<path d=\"M22 9.24l-7.19-.62L12 2 9.19 8.63 2 9.24l5.46 4.73L5.82 21 12 17.27 18.18 21l-1.63-7.03L22 9.24zM12 15.4l-3.76 2.27 1-4.28-3.32-2.88 4.38-.38L12 6.1l1.71 4.04 4.38.38-3.32 2.88 1 4.28L12 15.4z\"></path>\n",
       "<path d=\"M0 0h24v24H0z\" fill=\"none\"></path>\n",
       "</svg>\n",
       "</span>\n",
       "<span class=\"ipl-rating-star__rating\">Rate</span>\n",
       "</div>\n",
       "</a>\n",
       "<a class=\"ipl-rating-selector__star-link \" data-value=\"9\" href=\"#void\">\n",
       "<div class=\"ipl-rating-star ipl-rating-interactive__star\">\n",
       "<span class=\"ipl-rating-star__star\">\n",
       "<svg class=\"ipl-star-icon\" fill=\"#000000\" height=\"24\" viewbox=\"0 0 24 24\" width=\"24\" xmlns=\"http://www.w3.org/2000/svg\">\n",
       "<path d=\"M0 0h24v24H0z\" fill=\"none\"></path>\n",
       "<path d=\"M12 17.27L18.18 21l-1.64-7.03L22 9.24l-7.19-.61L12 2 9.19 8.63 2 9.24l5.46 4.73L5.82 21z\"></path>\n",
       "<path d=\"M0 0h24v24H0z\" fill=\"none\"></path>\n",
       "</svg>\n",
       "</span>\n",
       "<span class=\"ipl-rating-star__rating\">9</span>\n",
       "</div>\n",
       "<div class=\"ipl-rating-star ipl-rating-interactive__star--empty \">\n",
       "<span class=\"ipl-rating-star__star\">\n",
       "<svg class=\"ipl-star-border-icon\" fill=\"#000000\" height=\"24\" viewbox=\"0 0 24 24\" width=\"24\" xmlns=\"http://www.w3.org/2000/svg\">\n",
       "<path d=\"M22 9.24l-7.19-.62L12 2 9.19 8.63 2 9.24l5.46 4.73L5.82 21 12 17.27 18.18 21l-1.63-7.03L22 9.24zM12 15.4l-3.76 2.27 1-4.28-3.32-2.88 4.38-.38L12 6.1l1.71 4.04 4.38.38-3.32 2.88 1 4.28L12 15.4z\"></path>\n",
       "<path d=\"M0 0h24v24H0z\" fill=\"none\"></path>\n",
       "</svg>\n",
       "</span>\n",
       "<span class=\"ipl-rating-star__rating\">Rate</span>\n",
       "</div>\n",
       "</a>\n",
       "<a class=\"ipl-rating-selector__star-link \" data-value=\"10\" href=\"#void\">\n",
       "<div class=\"ipl-rating-star ipl-rating-interactive__star\">\n",
       "<span class=\"ipl-rating-star__star\">\n",
       "<svg class=\"ipl-star-icon\" fill=\"#000000\" height=\"24\" viewbox=\"0 0 24 24\" width=\"24\" xmlns=\"http://www.w3.org/2000/svg\">\n",
       "<path d=\"M0 0h24v24H0z\" fill=\"none\"></path>\n",
       "<path d=\"M12 17.27L18.18 21l-1.64-7.03L22 9.24l-7.19-.61L12 2 9.19 8.63 2 9.24l5.46 4.73L5.82 21z\"></path>\n",
       "<path d=\"M0 0h24v24H0z\" fill=\"none\"></path>\n",
       "</svg>\n",
       "</span>\n",
       "<span class=\"ipl-rating-star__rating\">10</span>\n",
       "</div>\n",
       "<div class=\"ipl-rating-star ipl-rating-interactive__star--empty \">\n",
       "<span class=\"ipl-rating-star__star\">\n",
       "<svg class=\"ipl-star-border-icon\" fill=\"#000000\" height=\"24\" viewbox=\"0 0 24 24\" width=\"24\" xmlns=\"http://www.w3.org/2000/svg\">\n",
       "<path d=\"M22 9.24l-7.19-.62L12 2 9.19 8.63 2 9.24l5.46 4.73L5.82 21 12 17.27 18.18 21l-1.63-7.03L22 9.24zM12 15.4l-3.76 2.27 1-4.28-3.32-2.88 4.38-.38L12 6.1l1.71 4.04 4.38.38-3.32 2.88 1 4.28L12 15.4z\"></path>\n",
       "<path d=\"M0 0h24v24H0z\" fill=\"none\"></path>\n",
       "</svg>\n",
       "</span>\n",
       "<span class=\"ipl-rating-star__rating\">Rate</span>\n",
       "</div>\n",
       "</a>\n",
       "<fieldset class=\"ipl-rating-selector__fieldset\">\n",
       "<input name=\"tconst\" type=\"hidden\" value=\"tt0073707\">\n",
       "<input name=\"rating\" type=\"text\" value=\"0\"/>\n",
       "<input name=\"auth\" type=\"hidden\" value=\"\"/>\n",
       "<input name=\"tracking_tag\" type=\"hidden\" value=\"ur_rt\"/>\n",
       "</input></fieldset>\n",
       "<noscript>\n",
       "<input class=\"ipl-rating-selector__rating-submit\" type=\"submit\" value=\"Vote\"/>\n",
       "</noscript>\n",
       "</form>\n",
       "<span class=\"ipl-rating-selector__rating-value\">0</span>\n",
       "</div>\n",
       "<div class=\"ipl-rating-selector__error ipl-rating-selector__wrapper\">\n",
       "<span>Error: please try again.</span>\n",
       "</div>\n",
       "</div>\n",
       "<div class=\"ipl-rating-interactive__loader\">\n",
       "<img alt=\"loading\" src=\"https://i.media-imdb.com/images/spinning-progress.gif\"/>\n",
       "</div>\n",
       "</div>\n",
       "</div>\n",
       "<p class=\"\">\n",
       "    After his family is murdered by a notorious and ruthless bandit, a former police officer enlists the services of two outlaws to capture the bandit.</p>\n",
       "<p class=\"text-muted text-small\">\n",
       "    Director:\n",
       "<a href=\"/name/nm0802693/?ref_=ttls_li_dr_0\">Ramesh Sippy</a>\n",
       "<span class=\"ghost\">|</span> \n",
       "    Stars:\n",
       "<a href=\"/name/nm0004429/?ref_=ttls_li_st_0\">Dharmendra</a>, \n",
       "<a href=\"/name/nm0474876/?ref_=ttls_li_st_1\">Sanjeev Kumar</a>, \n",
       "<a href=\"/name/nm0004564/?ref_=ttls_li_st_2\">Hema Malini</a>, \n",
       "<a href=\"/name/nm0000821/?ref_=ttls_li_st_3\">Amitabh Bachchan</a>\n",
       "</p>\n",
       "<p class=\"text-muted text-small\">\n",
       "<span class=\"text-muted\">Votes:</span>\n",
       "<span data-value=\"43462\" name=\"nv\">43,462</span>\n",
       "</p>\n",
       "<div class=\"wtw-option-standalone\" data-baseref=\"wl_li\" data-tconst=\"tt0073707\" data-watchtype=\"minibar\"></div>\n",
       "</div>\n",
       "<div class=\"clear\"></div>\n",
       "</div>"
      ]
     },
     "execution_count": 46,
     "metadata": {},
     "output_type": "execute_result"
    }
   ],
   "source": [
    "first_movie = movie_headers[0]\n",
    "first_movie"
   ]
  },
  {
   "cell_type": "code",
   "execution_count": 47,
   "metadata": {},
   "outputs": [
    {
     "data": {
      "text/plain": [
       "<div class=\"lister-item-image ribbonize\" data-tconst=\"tt0073707\">\n",
       "<a href=\"/title/tt0073707/?ref_=ttls_li_i\"> <img alt=\"Sholay\" class=\"loadlate\" data-tconst=\"tt0073707\" height=\"209\" loadlate=\"https://m.media-amazon.com/images/M/MV5BMjEzOTM4MTY1Nl5BMl5BanBnXkFtZTgwOTc0MjkwMzE@._V1_UY209_CR9,0,140,209_AL_.jpg\" src=\"https://m.media-amazon.com/images/G/01/imdb/images/nopicture/large/film-184890147._CB499613450_.png\" width=\"140\"/>\n",
       "</a> </div>"
      ]
     },
     "execution_count": 47,
     "metadata": {},
     "output_type": "execute_result"
    }
   ],
   "source": [
    "first_movie.div"
   ]
  },
  {
   "cell_type": "code",
   "execution_count": 48,
   "metadata": {},
   "outputs": [
    {
     "data": {
      "text/plain": [
       "<a href=\"/title/tt0073707/?ref_=ttls_li_i\"> <img alt=\"Sholay\" class=\"loadlate\" data-tconst=\"tt0073707\" height=\"209\" loadlate=\"https://m.media-amazon.com/images/M/MV5BMjEzOTM4MTY1Nl5BMl5BanBnXkFtZTgwOTc0MjkwMzE@._V1_UY209_CR9,0,140,209_AL_.jpg\" src=\"https://m.media-amazon.com/images/G/01/imdb/images/nopicture/large/film-184890147._CB499613450_.png\" width=\"140\"/>\n",
       "</a>"
      ]
     },
     "execution_count": 48,
     "metadata": {},
     "output_type": "execute_result"
    }
   ],
   "source": [
    "first_movie.a"
   ]
  },
  {
   "cell_type": "code",
   "execution_count": 49,
   "metadata": {},
   "outputs": [
    {
     "data": {
      "text/plain": [
       "<h3 class=\"lister-item-header\">\n",
       "<span class=\"lister-item-index unbold text-primary\">1.</span>\n",
       "<a href=\"/title/tt0073707/?ref_=ttls_li_tt\">Sholay</a>\n",
       "<span class=\"lister-item-year text-muted unbold\">(1975)</span>\n",
       "</h3>"
      ]
     },
     "execution_count": 49,
     "metadata": {},
     "output_type": "execute_result"
    }
   ],
   "source": [
    "first_movie.h3"
   ]
  },
  {
   "cell_type": "code",
   "execution_count": 50,
   "metadata": {},
   "outputs": [
    {
     "data": {
      "text/plain": [
       "<a href=\"/title/tt0073707/?ref_=ttls_li_tt\">Sholay</a>"
      ]
     },
     "execution_count": 50,
     "metadata": {},
     "output_type": "execute_result"
    }
   ],
   "source": [
    "first_movie.h3.a"
   ]
  },
  {
   "cell_type": "code",
   "execution_count": 51,
   "metadata": {},
   "outputs": [
    {
     "data": {
      "text/plain": [
       "'Sholay'"
      ]
     },
     "execution_count": 51,
     "metadata": {},
     "output_type": "execute_result"
    }
   ],
   "source": [
    "first_name = first_movie.h3.a.text\n",
    "first_name"
   ]
  },
  {
   "cell_type": "code",
   "execution_count": 52,
   "metadata": {},
   "outputs": [
    {
     "data": {
      "text/plain": [
       "<span class=\"lister-item-year text-muted unbold\">(1975)</span>"
      ]
     },
     "execution_count": 52,
     "metadata": {},
     "output_type": "execute_result"
    }
   ],
   "source": [
    "first_year = first_movie.h3.find('span', class_ = 'lister-item-year text-muted unbold')\n",
    "first_year"
   ]
  },
  {
   "cell_type": "code",
   "execution_count": 53,
   "metadata": {},
   "outputs": [
    {
     "data": {
      "text/plain": [
       "'(1975)'"
      ]
     },
     "execution_count": 53,
     "metadata": {},
     "output_type": "execute_result"
    }
   ],
   "source": [
    "first_year = first_year.text\n",
    "first_year"
   ]
  },
  {
   "cell_type": "code",
   "execution_count": 54,
   "metadata": {},
   "outputs": [
    {
     "data": {
      "text/plain": [
       "<p class=\"text-muted text-small\">\n",
       "<span class=\"certificate\">Not Rated</span>\n",
       "<span class=\"ghost\">|</span>\n",
       "<span class=\"runtime\">198 min</span>\n",
       "<span class=\"ghost\">|</span>\n",
       "<span class=\"genre\">\n",
       "Action, Adventure, Comedy            </span>\n",
       "</p>"
      ]
     },
     "execution_count": 54,
     "metadata": {},
     "output_type": "execute_result"
    }
   ],
   "source": [
    "first_movie.p"
   ]
  },
  {
   "cell_type": "code",
   "execution_count": 55,
   "metadata": {},
   "outputs": [
    {
     "data": {
      "text/plain": [
       "<span class=\"runtime\">198 min</span>"
      ]
     },
     "execution_count": 55,
     "metadata": {},
     "output_type": "execute_result"
    }
   ],
   "source": [
    "first_runtime = first_movie.p.find('span', class_ = 'runtime')\n",
    "first_runtime"
   ]
  },
  {
   "cell_type": "code",
   "execution_count": 56,
   "metadata": {},
   "outputs": [
    {
     "data": {
      "text/plain": [
       "'198'"
      ]
     },
     "execution_count": 56,
     "metadata": {},
     "output_type": "execute_result"
    }
   ],
   "source": [
    "first_runtime = first_runtime.text\n",
    "first_runtime_min = first_runtime[0:3]\n",
    "first_runtime_min"
   ]
  },
  {
   "cell_type": "code",
   "execution_count": 57,
   "metadata": {},
   "outputs": [
    {
     "data": {
      "text/plain": [
       "'Action, Adventure, Comedy'"
      ]
     },
     "execution_count": 57,
     "metadata": {},
     "output_type": "execute_result"
    }
   ],
   "source": [
    "first_gen = first_movie.p.find('span', class_ = 'genre')\n",
    "first_gen = first_gen.text\n",
    "first_genre = first_gen[1:26]\n",
    "first_genre"
   ]
  },
  {
   "cell_type": "code",
   "execution_count": 58,
   "metadata": {},
   "outputs": [
    {
     "data": {
      "text/plain": [
       "<div class=\"lister-item-image ribbonize\" data-tconst=\"tt0073707\">\n",
       "<a href=\"/title/tt0073707/?ref_=ttls_li_i\"> <img alt=\"Sholay\" class=\"loadlate\" data-tconst=\"tt0073707\" height=\"209\" loadlate=\"https://m.media-amazon.com/images/M/MV5BMjEzOTM4MTY1Nl5BMl5BanBnXkFtZTgwOTc0MjkwMzE@._V1_UY209_CR9,0,140,209_AL_.jpg\" src=\"https://m.media-amazon.com/images/G/01/imdb/images/nopicture/large/film-184890147._CB499613450_.png\" width=\"140\"/>\n",
       "</a> </div>"
      ]
     },
     "execution_count": 58,
     "metadata": {},
     "output_type": "execute_result"
    }
   ],
   "source": [
    "first_movie.div"
   ]
  },
  {
   "cell_type": "code",
   "execution_count": 59,
   "metadata": {},
   "outputs": [
    {
     "data": {
      "text/plain": [
       "<span class=\"ipl-rating-star__rating\">8.2</span>"
      ]
     },
     "execution_count": 59,
     "metadata": {},
     "output_type": "execute_result"
    }
   ],
   "source": [
    "first_rating_cont = first_movie.find('span', attrs = {'class':'ipl-rating-star__rating'})\n",
    "first_rating_cont"
   ]
  },
  {
   "cell_type": "code",
   "execution_count": 60,
   "metadata": {},
   "outputs": [
    {
     "data": {
      "text/plain": [
       "8.2"
      ]
     },
     "execution_count": 60,
     "metadata": {},
     "output_type": "execute_result"
    }
   ],
   "source": [
    "first_imdb = float(first_rating_cont.text)\n",
    "first_imdb"
   ]
  },
  {
   "cell_type": "code",
   "execution_count": 61,
   "metadata": {},
   "outputs": [
    {
     "data": {
      "text/plain": [
       "<span data-value=\"43462\" name=\"nv\">43,462</span>"
      ]
     },
     "execution_count": 61,
     "metadata": {},
     "output_type": "execute_result"
    }
   ],
   "source": [
    "first_votes = first_movie.find('span', attrs = {'name':'nv'})\n",
    "first_votes\n"
   ]
  },
  {
   "cell_type": "code",
   "execution_count": 62,
   "metadata": {},
   "outputs": [
    {
     "data": {
      "text/plain": [
       "'43462'"
      ]
     },
     "execution_count": 62,
     "metadata": {},
     "output_type": "execute_result"
    }
   ],
   "source": [
    "first_votes['data-value']"
   ]
  },
  {
   "cell_type": "code",
   "execution_count": 63,
   "metadata": {},
   "outputs": [
    {
     "data": {
      "text/plain": [
       "43462"
      ]
     },
     "execution_count": 63,
     "metadata": {},
     "output_type": "execute_result"
    }
   ],
   "source": [
    "first_votes = int(first_votes['data-value'])\n",
    "first_votes"
   ]
  },
  {
   "cell_type": "markdown",
   "metadata": {},
   "source": [
    "### Adding data pf top 100 movies in a list"
   ]
  },
  {
   "cell_type": "code",
   "execution_count": 64,
   "metadata": {
    "collapsed": true
   },
   "outputs": [],
   "source": [
    "# Lists to store the scraped data in\n",
    "names = []\n",
    "years = []\n",
    "imdb_ratings = []\n",
    "votes = []\n",
    "runtimes = []\n",
    "genres = []\n",
    "# Extract data from individual movie container\n",
    "for item in movie_headers:\n",
    "        # The name\n",
    "        name = item.h3.a.text\n",
    "        names.append(name)\n",
    "        \n",
    "        # The year\n",
    "        year = item.h3.find('span', class_ = 'lister-item-year text-muted unbold').text\n",
    "        years.append(year[1:5])\n",
    "        \n",
    "        # The IMDB rating\n",
    "        imdb = float(item.find('span', attrs = {'class':'ipl-rating-star__rating'}).text)\n",
    "        imdb_ratings.append(imdb)\n",
    "\n",
    "        # The number of votes\n",
    "        vote = item.find('span', attrs = {'name':'nv'})['data-value']\n",
    "        votes.append(int(vote))\n",
    "        \n",
    "        # The Runtime duration   \n",
    "        if item.p.find('span', class_ = 'runtime') is not None:\n",
    "            runtime = item.p.find('span', class_ = 'runtime').text\n",
    "            runtimes.append(float(runtime[0:3]))\n",
    "        else:\n",
    "            runtimes.append('nan')\n",
    "\n",
    "       #The genres   \n",
    "        if item.p.find('span', class_ = 'genre') is not None:\n",
    "            genre = item.p.find('span', class_ = 'genre').text\n",
    "            genres.append(genre[1:])\n",
    "        else:\n",
    "            genres.append('nan')        \n",
    "    "
   ]
  },
  {
   "cell_type": "markdown",
   "metadata": {},
   "source": [
    "### Adding rest movies in top 100 - 200"
   ]
  },
  {
   "cell_type": "code",
   "execution_count": 65,
   "metadata": {
    "collapsed": true
   },
   "outputs": [],
   "source": [
    "url = 'https://www.imdb.com/list/ls008706900/?sort=list_order,asc&st_dt=&mode=detail&page=2'\n",
    "response = get(url)\n",
    "html_soup = BeautifulSoup(response.text, 'html.parser')\n",
    "movie_headers = html_soup.find_all('div', class_ = 'lister-item mode-detail')"
   ]
  },
  {
   "cell_type": "code",
   "execution_count": 66,
   "metadata": {
    "collapsed": true
   },
   "outputs": [],
   "source": [
    "for item in movie_headers:\n",
    "        # The name\n",
    "        name = item.h3.a.text\n",
    "        names.append(name)\n",
    "        \n",
    "        # The year\n",
    "        year = item.h3.find('span', class_ = 'lister-item-year text-muted unbold').text\n",
    "        years.append(year[1:5])\n",
    "        \n",
    "        # The IMDB rating\n",
    "        imdb = float(item.find('span', attrs = {'class':'ipl-rating-star__rating'}).text)\n",
    "        imdb_ratings.append(imdb)\n",
    "\n",
    "        # The number of votes\n",
    "        vote = item.find('span', attrs = {'name':'nv'})['data-value']\n",
    "        votes.append(int(vote))\n",
    "        \n",
    "        # The Runtime duration   \n",
    "        if item.p.find('span', class_ = 'runtime') is not None:\n",
    "            runtime = item.p.find('span', class_ = 'runtime').text\n",
    "            runtimes.append(float(runtime[0:3]))\n",
    "        else:\n",
    "            runtimes.append('nan')\n",
    "\n",
    "       #The genres   \n",
    "        if item.p.find('span', class_ = 'genre') is not None:\n",
    "            genre = item.p.find('span', class_ = 'genre').text\n",
    "            genres.append(genre[1:])\n",
    "        else:\n",
    "            genres.append('nan')        \n",
    "    "
   ]
  },
  {
   "cell_type": "markdown",
   "metadata": {},
   "source": [
    "#### Required Dataframe"
   ]
  },
  {
   "cell_type": "code",
   "execution_count": 67,
   "metadata": {},
   "outputs": [
    {
     "name": "stdout",
     "output_type": "stream",
     "text": [
      "<class 'pandas.core.frame.DataFrame'>\n",
      "RangeIndex: 200 entries, 0 to 199\n",
      "Data columns (total 6 columns):\n",
      "Genre               200 non-null object\n",
      "IMDB rating         200 non-null float64\n",
      "Movie Title         200 non-null object\n",
      "Number of Votes     200 non-null int64\n",
      "Running_time_min    200 non-null object\n",
      "Year of release     200 non-null object\n",
      "dtypes: float64(1), int64(1), object(4)\n",
      "memory usage: 9.5+ KB\n",
      "None\n"
     ]
    }
   ],
   "source": [
    "import pandas as pd\n",
    "\n",
    "test_df = pd.DataFrame({'Movie Title': names,\n",
    "                       'Year of release': years,\n",
    "                      'IMDB rating': imdb_ratings,\n",
    "                     'Running_time_min': runtimes,\n",
    "                      'Number of Votes': votes,\n",
    "                        'Genre':genres\n",
    "                       })\n",
    "print(test_df.info())"
   ]
  },
  {
   "cell_type": "code",
   "execution_count": 68,
   "metadata": {},
   "outputs": [
    {
     "data": {
      "text/html": [
       "<div>\n",
       "<style>\n",
       "    .dataframe thead tr:only-child th {\n",
       "        text-align: right;\n",
       "    }\n",
       "\n",
       "    .dataframe thead th {\n",
       "        text-align: left;\n",
       "    }\n",
       "\n",
       "    .dataframe tbody tr th {\n",
       "        vertical-align: top;\n",
       "    }\n",
       "</style>\n",
       "<table border=\"1\" class=\"dataframe\">\n",
       "  <thead>\n",
       "    <tr style=\"text-align: right;\">\n",
       "      <th></th>\n",
       "      <th>Genre</th>\n",
       "      <th>IMDB rating</th>\n",
       "      <th>Movie Title</th>\n",
       "      <th>Number of Votes</th>\n",
       "      <th>Running_time_min</th>\n",
       "      <th>Year of release</th>\n",
       "    </tr>\n",
       "  </thead>\n",
       "  <tbody>\n",
       "    <tr>\n",
       "      <th>0</th>\n",
       "      <td>Action, Adventure, Comedy</td>\n",
       "      <td>8.2</td>\n",
       "      <td>Sholay</td>\n",
       "      <td>43462</td>\n",
       "      <td>198</td>\n",
       "      <td>1975</td>\n",
       "    </tr>\n",
       "    <tr>\n",
       "      <th>1</th>\n",
       "      <td>Action, Crime, Drama</td>\n",
       "      <td>8.1</td>\n",
       "      <td>Deewaar</td>\n",
       "      <td>8193</td>\n",
       "      <td>174</td>\n",
       "      <td>1975</td>\n",
       "    </tr>\n",
       "    <tr>\n",
       "      <th>2</th>\n",
       "      <td>Crime, Drama, Romance</td>\n",
       "      <td>7.7</td>\n",
       "      <td>Haasil</td>\n",
       "      <td>2263</td>\n",
       "      <td>160</td>\n",
       "      <td>2003</td>\n",
       "    </tr>\n",
       "    <tr>\n",
       "      <th>3</th>\n",
       "      <td>Drama, Family, Musical</td>\n",
       "      <td>8.5</td>\n",
       "      <td>Masoom</td>\n",
       "      <td>2939</td>\n",
       "      <td>165</td>\n",
       "      <td>1983</td>\n",
       "    </tr>\n",
       "    <tr>\n",
       "      <th>4</th>\n",
       "      <td>Comedy, Drama, Musical</td>\n",
       "      <td>8.2</td>\n",
       "      <td>Munna Bhai M.B.B.S.</td>\n",
       "      <td>58970</td>\n",
       "      <td>156</td>\n",
       "      <td>2003</td>\n",
       "    </tr>\n",
       "    <tr>\n",
       "      <th>5</th>\n",
       "      <td>Comedy, Drama</td>\n",
       "      <td>8.3</td>\n",
       "      <td>Rang De Basanti</td>\n",
       "      <td>93108</td>\n",
       "      <td>157</td>\n",
       "      <td>2006</td>\n",
       "    </tr>\n",
       "    <tr>\n",
       "      <th>6</th>\n",
       "      <td>Action, Crime, Drama</td>\n",
       "      <td>7.7</td>\n",
       "      <td>Agneepath</td>\n",
       "      <td>6836</td>\n",
       "      <td>174</td>\n",
       "      <td>1990</td>\n",
       "    </tr>\n",
       "    <tr>\n",
       "      <th>7</th>\n",
       "      <td>Drama</td>\n",
       "      <td>8.8</td>\n",
       "      <td>Anand</td>\n",
       "      <td>19598</td>\n",
       "      <td>122</td>\n",
       "      <td>1971</td>\n",
       "    </tr>\n",
       "    <tr>\n",
       "      <th>8</th>\n",
       "      <td>Comedy, Drama, Romance</td>\n",
       "      <td>8.2</td>\n",
       "      <td>Jo Jeeta Wohi Sikandar</td>\n",
       "      <td>17963</td>\n",
       "      <td>174</td>\n",
       "      <td>1992</td>\n",
       "    </tr>\n",
       "    <tr>\n",
       "      <th>9</th>\n",
       "      <td>Action, Crime, Drama</td>\n",
       "      <td>8.2</td>\n",
       "      <td>Satya</td>\n",
       "      <td>10464</td>\n",
       "      <td>170</td>\n",
       "      <td>1998</td>\n",
       "    </tr>\n",
       "    <tr>\n",
       "      <th>10</th>\n",
       "      <td>Drama</td>\n",
       "      <td>8.3</td>\n",
       "      <td>Swades: We, the People</td>\n",
       "      <td>69456</td>\n",
       "      <td>210</td>\n",
       "      <td>2004</td>\n",
       "    </tr>\n",
       "    <tr>\n",
       "      <th>11</th>\n",
       "      <td>Crime, Drama</td>\n",
       "      <td>8.2</td>\n",
       "      <td>Maqbool</td>\n",
       "      <td>6836</td>\n",
       "      <td>132</td>\n",
       "      <td>2003</td>\n",
       "    </tr>\n",
       "    <tr>\n",
       "      <th>12</th>\n",
       "      <td>Crime, Drama, Thriller</td>\n",
       "      <td>7.6</td>\n",
       "      <td>Naam</td>\n",
       "      <td>725</td>\n",
       "      <td>177</td>\n",
       "      <td>1986</td>\n",
       "    </tr>\n",
       "    <tr>\n",
       "      <th>13</th>\n",
       "      <td>Comedy, Family, Romance</td>\n",
       "      <td>8.0</td>\n",
       "      <td>Chashme Buddoor</td>\n",
       "      <td>1883</td>\n",
       "      <td>145</td>\n",
       "      <td>1981</td>\n",
       "    </tr>\n",
       "    <tr>\n",
       "      <th>14</th>\n",
       "      <td>Comedy, Romance</td>\n",
       "      <td>8.6</td>\n",
       "      <td>Gol Maal</td>\n",
       "      <td>13730</td>\n",
       "      <td>120</td>\n",
       "      <td>1979</td>\n",
       "    </tr>\n",
       "    <tr>\n",
       "      <th>15</th>\n",
       "      <td>Action</td>\n",
       "      <td>8.2</td>\n",
       "      <td>Shiva</td>\n",
       "      <td>2214</td>\n",
       "      <td>145</td>\n",
       "      <td>1989</td>\n",
       "    </tr>\n",
       "    <tr>\n",
       "      <th>16</th>\n",
       "      <td>Comedy, Drama, Romance</td>\n",
       "      <td>8.1</td>\n",
       "      <td>Dev.D</td>\n",
       "      <td>24340</td>\n",
       "      <td>144</td>\n",
       "      <td>2009</td>\n",
       "    </tr>\n",
       "    <tr>\n",
       "      <th>17</th>\n",
       "      <td>Comedy</td>\n",
       "      <td>7.1</td>\n",
       "      <td>Jaane Bhi Do Yaaron</td>\n",
       "      <td>185</td>\n",
       "      <td>nan</td>\n",
       "      <td>2007</td>\n",
       "    </tr>\n",
       "    <tr>\n",
       "      <th>18</th>\n",
       "      <td>Action, Crime, Thriller</td>\n",
       "      <td>7.8</td>\n",
       "      <td>Don</td>\n",
       "      <td>8956</td>\n",
       "      <td>175</td>\n",
       "      <td>1978</td>\n",
       "    </tr>\n",
       "    <tr>\n",
       "      <th>19</th>\n",
       "      <td>Comedy, Drama, Romance</td>\n",
       "      <td>8.5</td>\n",
       "      <td>Chupke Chupke</td>\n",
       "      <td>8950</td>\n",
       "      <td>146</td>\n",
       "      <td>1975</td>\n",
       "    </tr>\n",
       "  </tbody>\n",
       "</table>\n",
       "</div>"
      ],
      "text/plain": [
       "                                    Genre  IMDB rating  \\\n",
       "0   Action, Adventure, Comedy                      8.2   \n",
       "1        Action, Crime, Drama                      8.1   \n",
       "2       Crime, Drama, Romance                      7.7   \n",
       "3      Drama, Family, Musical                      8.5   \n",
       "4      Comedy, Drama, Musical                      8.2   \n",
       "5               Comedy, Drama                      8.3   \n",
       "6        Action, Crime, Drama                      7.7   \n",
       "7                       Drama                      8.8   \n",
       "8      Comedy, Drama, Romance                      8.2   \n",
       "9        Action, Crime, Drama                      8.2   \n",
       "10                      Drama                      8.3   \n",
       "11               Crime, Drama                      8.2   \n",
       "12     Crime, Drama, Thriller                      7.6   \n",
       "13    Comedy, Family, Romance                      8.0   \n",
       "14            Comedy, Romance                      8.6   \n",
       "15                     Action                      8.2   \n",
       "16     Comedy, Drama, Romance                      8.1   \n",
       "17                     Comedy                      7.1   \n",
       "18    Action, Crime, Thriller                      7.8   \n",
       "19     Comedy, Drama, Romance                      8.5   \n",
       "\n",
       "               Movie Title  Number of Votes Running_time_min Year of release  \n",
       "0                   Sholay            43462              198            1975  \n",
       "1                  Deewaar             8193              174            1975  \n",
       "2                   Haasil             2263              160            2003  \n",
       "3                   Masoom             2939              165            1983  \n",
       "4      Munna Bhai M.B.B.S.            58970              156            2003  \n",
       "5          Rang De Basanti            93108              157            2006  \n",
       "6                Agneepath             6836              174            1990  \n",
       "7                    Anand            19598              122            1971  \n",
       "8   Jo Jeeta Wohi Sikandar            17963              174            1992  \n",
       "9                    Satya            10464              170            1998  \n",
       "10  Swades: We, the People            69456              210            2004  \n",
       "11                 Maqbool             6836              132            2003  \n",
       "12                    Naam              725              177            1986  \n",
       "13         Chashme Buddoor             1883              145            1981  \n",
       "14                Gol Maal            13730              120            1979  \n",
       "15                   Shiva             2214              145            1989  \n",
       "16                   Dev.D            24340              144            2009  \n",
       "17     Jaane Bhi Do Yaaron              185              nan            2007  \n",
       "18                     Don             8956              175            1978  \n",
       "19           Chupke Chupke             8950              146            1975  "
      ]
     },
     "execution_count": 68,
     "metadata": {},
     "output_type": "execute_result"
    }
   ],
   "source": [
    "test_df.head(20)"
   ]
  },
  {
   "cell_type": "code",
   "execution_count": 69,
   "metadata": {},
   "outputs": [
    {
     "data": {
      "text/plain": [
       "Index(['Genre', 'IMDB rating', 'Movie Title', 'Number of Votes',\n",
       "       'Running_time_min', 'Year of release'],\n",
       "      dtype='object')"
      ]
     },
     "execution_count": 69,
     "metadata": {},
     "output_type": "execute_result"
    }
   ],
   "source": [
    "test_df.columns"
   ]
  },
  {
   "cell_type": "code",
   "execution_count": 70,
   "metadata": {
    "collapsed": true
   },
   "outputs": [],
   "source": [
    "df = test_df[['Movie Title','IMDB rating','Year of release','Running_time_min','Genre','Number of Votes' ]]"
   ]
  },
  {
   "cell_type": "code",
   "execution_count": 71,
   "metadata": {},
   "outputs": [
    {
     "data": {
      "text/plain": [
       "'I) ('"
      ]
     },
     "execution_count": 71,
     "metadata": {},
     "output_type": "execute_result"
    }
   ],
   "source": [
    "df['Year of release'][192]"
   ]
  },
  {
   "cell_type": "code",
   "execution_count": 72,
   "metadata": {},
   "outputs": [
    {
     "name": "stderr",
     "output_type": "stream",
     "text": [
      "/home/amit/anaconda3/lib/python3.6/site-packages/ipykernel_launcher.py:1: SettingWithCopyWarning: \n",
      "A value is trying to be set on a copy of a slice from a DataFrame\n",
      "\n",
      "See the caveats in the documentation: http://pandas.pydata.org/pandas-docs/stable/indexing.html#indexing-view-versus-copy\n",
      "  \"\"\"Entry point for launching an IPython kernel.\n",
      "/home/amit/anaconda3/lib/python3.6/site-packages/IPython/core/interactiveshell.py:2881: SettingWithCopyWarning: \n",
      "A value is trying to be set on a copy of a slice from a DataFrame\n",
      "\n",
      "See the caveats in the documentation: http://pandas.pydata.org/pandas-docs/stable/indexing.html#indexing-view-versus-copy\n",
      "  exec(code_obj, self.user_global_ns, self.user_ns)\n"
     ]
    }
   ],
   "source": [
    "df['Year of release'][192] = df['Year of release'][192].replace('I) (','1997')"
   ]
  },
  {
   "cell_type": "code",
   "execution_count": 73,
   "metadata": {},
   "outputs": [
    {
     "data": {
      "text/plain": [
       "'1997'"
      ]
     },
     "execution_count": 73,
     "metadata": {},
     "output_type": "execute_result"
    }
   ],
   "source": [
    "df['Year of release'][192]"
   ]
  },
  {
   "cell_type": "code",
   "execution_count": 74,
   "metadata": {},
   "outputs": [
    {
     "data": {
      "text/html": [
       "<div>\n",
       "<style>\n",
       "    .dataframe thead tr:only-child th {\n",
       "        text-align: right;\n",
       "    }\n",
       "\n",
       "    .dataframe thead th {\n",
       "        text-align: left;\n",
       "    }\n",
       "\n",
       "    .dataframe tbody tr th {\n",
       "        vertical-align: top;\n",
       "    }\n",
       "</style>\n",
       "<table border=\"1\" class=\"dataframe\">\n",
       "  <thead>\n",
       "    <tr style=\"text-align: right;\">\n",
       "      <th></th>\n",
       "      <th>Movie Title</th>\n",
       "      <th>IMDB rating</th>\n",
       "      <th>Year of release</th>\n",
       "      <th>Running_time_min</th>\n",
       "      <th>Genre</th>\n",
       "      <th>Number of Votes</th>\n",
       "    </tr>\n",
       "  </thead>\n",
       "  <tbody>\n",
       "    <tr>\n",
       "      <th>0</th>\n",
       "      <td>Sholay</td>\n",
       "      <td>8.2</td>\n",
       "      <td>1975</td>\n",
       "      <td>198</td>\n",
       "      <td>Action, Adventure, Comedy</td>\n",
       "      <td>43462</td>\n",
       "    </tr>\n",
       "    <tr>\n",
       "      <th>1</th>\n",
       "      <td>Deewaar</td>\n",
       "      <td>8.1</td>\n",
       "      <td>1975</td>\n",
       "      <td>174</td>\n",
       "      <td>Action, Crime, Drama</td>\n",
       "      <td>8193</td>\n",
       "    </tr>\n",
       "    <tr>\n",
       "      <th>2</th>\n",
       "      <td>Haasil</td>\n",
       "      <td>7.7</td>\n",
       "      <td>2003</td>\n",
       "      <td>160</td>\n",
       "      <td>Crime, Drama, Romance</td>\n",
       "      <td>2263</td>\n",
       "    </tr>\n",
       "    <tr>\n",
       "      <th>3</th>\n",
       "      <td>Masoom</td>\n",
       "      <td>8.5</td>\n",
       "      <td>1983</td>\n",
       "      <td>165</td>\n",
       "      <td>Drama, Family, Musical</td>\n",
       "      <td>2939</td>\n",
       "    </tr>\n",
       "    <tr>\n",
       "      <th>4</th>\n",
       "      <td>Munna Bhai M.B.B.S.</td>\n",
       "      <td>8.2</td>\n",
       "      <td>2003</td>\n",
       "      <td>156</td>\n",
       "      <td>Comedy, Drama, Musical</td>\n",
       "      <td>58970</td>\n",
       "    </tr>\n",
       "    <tr>\n",
       "      <th>5</th>\n",
       "      <td>Rang De Basanti</td>\n",
       "      <td>8.3</td>\n",
       "      <td>2006</td>\n",
       "      <td>157</td>\n",
       "      <td>Comedy, Drama</td>\n",
       "      <td>93108</td>\n",
       "    </tr>\n",
       "    <tr>\n",
       "      <th>6</th>\n",
       "      <td>Agneepath</td>\n",
       "      <td>7.7</td>\n",
       "      <td>1990</td>\n",
       "      <td>174</td>\n",
       "      <td>Action, Crime, Drama</td>\n",
       "      <td>6836</td>\n",
       "    </tr>\n",
       "    <tr>\n",
       "      <th>7</th>\n",
       "      <td>Anand</td>\n",
       "      <td>8.8</td>\n",
       "      <td>1971</td>\n",
       "      <td>122</td>\n",
       "      <td>Drama</td>\n",
       "      <td>19598</td>\n",
       "    </tr>\n",
       "    <tr>\n",
       "      <th>8</th>\n",
       "      <td>Jo Jeeta Wohi Sikandar</td>\n",
       "      <td>8.2</td>\n",
       "      <td>1992</td>\n",
       "      <td>174</td>\n",
       "      <td>Comedy, Drama, Romance</td>\n",
       "      <td>17963</td>\n",
       "    </tr>\n",
       "    <tr>\n",
       "      <th>9</th>\n",
       "      <td>Satya</td>\n",
       "      <td>8.2</td>\n",
       "      <td>1998</td>\n",
       "      <td>170</td>\n",
       "      <td>Action, Crime, Drama</td>\n",
       "      <td>10464</td>\n",
       "    </tr>\n",
       "    <tr>\n",
       "      <th>10</th>\n",
       "      <td>Swades: We, the People</td>\n",
       "      <td>8.3</td>\n",
       "      <td>2004</td>\n",
       "      <td>210</td>\n",
       "      <td>Drama</td>\n",
       "      <td>69456</td>\n",
       "    </tr>\n",
       "    <tr>\n",
       "      <th>11</th>\n",
       "      <td>Maqbool</td>\n",
       "      <td>8.2</td>\n",
       "      <td>2003</td>\n",
       "      <td>132</td>\n",
       "      <td>Crime, Drama</td>\n",
       "      <td>6836</td>\n",
       "    </tr>\n",
       "    <tr>\n",
       "      <th>12</th>\n",
       "      <td>Naam</td>\n",
       "      <td>7.6</td>\n",
       "      <td>1986</td>\n",
       "      <td>177</td>\n",
       "      <td>Crime, Drama, Thriller</td>\n",
       "      <td>725</td>\n",
       "    </tr>\n",
       "    <tr>\n",
       "      <th>13</th>\n",
       "      <td>Chashme Buddoor</td>\n",
       "      <td>8.0</td>\n",
       "      <td>1981</td>\n",
       "      <td>145</td>\n",
       "      <td>Comedy, Family, Romance</td>\n",
       "      <td>1883</td>\n",
       "    </tr>\n",
       "    <tr>\n",
       "      <th>14</th>\n",
       "      <td>Gol Maal</td>\n",
       "      <td>8.6</td>\n",
       "      <td>1979</td>\n",
       "      <td>120</td>\n",
       "      <td>Comedy, Romance</td>\n",
       "      <td>13730</td>\n",
       "    </tr>\n",
       "    <tr>\n",
       "      <th>15</th>\n",
       "      <td>Shiva</td>\n",
       "      <td>8.2</td>\n",
       "      <td>1989</td>\n",
       "      <td>145</td>\n",
       "      <td>Action</td>\n",
       "      <td>2214</td>\n",
       "    </tr>\n",
       "    <tr>\n",
       "      <th>16</th>\n",
       "      <td>Dev.D</td>\n",
       "      <td>8.1</td>\n",
       "      <td>2009</td>\n",
       "      <td>144</td>\n",
       "      <td>Comedy, Drama, Romance</td>\n",
       "      <td>24340</td>\n",
       "    </tr>\n",
       "    <tr>\n",
       "      <th>17</th>\n",
       "      <td>Jaane Bhi Do Yaaron</td>\n",
       "      <td>7.1</td>\n",
       "      <td>2007</td>\n",
       "      <td>nan</td>\n",
       "      <td>Comedy</td>\n",
       "      <td>185</td>\n",
       "    </tr>\n",
       "    <tr>\n",
       "      <th>18</th>\n",
       "      <td>Don</td>\n",
       "      <td>7.8</td>\n",
       "      <td>1978</td>\n",
       "      <td>175</td>\n",
       "      <td>Action, Crime, Thriller</td>\n",
       "      <td>8956</td>\n",
       "    </tr>\n",
       "    <tr>\n",
       "      <th>19</th>\n",
       "      <td>Chupke Chupke</td>\n",
       "      <td>8.5</td>\n",
       "      <td>1975</td>\n",
       "      <td>146</td>\n",
       "      <td>Comedy, Drama, Romance</td>\n",
       "      <td>8950</td>\n",
       "    </tr>\n",
       "    <tr>\n",
       "      <th>20</th>\n",
       "      <td>Parinda</td>\n",
       "      <td>7.9</td>\n",
       "      <td>1989</td>\n",
       "      <td>154</td>\n",
       "      <td>Action, Crime, Drama</td>\n",
       "      <td>2580</td>\n",
       "    </tr>\n",
       "    <tr>\n",
       "      <th>21</th>\n",
       "      <td>Manzil</td>\n",
       "      <td>7.1</td>\n",
       "      <td>1979</td>\n",
       "      <td>113</td>\n",
       "      <td>Drama, Romance, Family</td>\n",
       "      <td>211</td>\n",
       "    </tr>\n",
       "    <tr>\n",
       "      <th>22</th>\n",
       "      <td>Khamoshi</td>\n",
       "      <td>7.8</td>\n",
       "      <td>1970</td>\n",
       "      <td>127</td>\n",
       "      <td>Family, Musical, Romance</td>\n",
       "      <td>446</td>\n",
       "    </tr>\n",
       "    <tr>\n",
       "      <th>23</th>\n",
       "      <td>Ardh Satya</td>\n",
       "      <td>8.2</td>\n",
       "      <td>1983</td>\n",
       "      <td>130</td>\n",
       "      <td>Crime, Drama</td>\n",
       "      <td>1309</td>\n",
       "    </tr>\n",
       "    <tr>\n",
       "      <th>24</th>\n",
       "      <td>Ghayal</td>\n",
       "      <td>7.7</td>\n",
       "      <td>1990</td>\n",
       "      <td>163</td>\n",
       "      <td>Action, Crime, Drama</td>\n",
       "      <td>3210</td>\n",
       "    </tr>\n",
       "    <tr>\n",
       "      <th>25</th>\n",
       "      <td>Trishul</td>\n",
       "      <td>7.8</td>\n",
       "      <td>1978</td>\n",
       "      <td>167</td>\n",
       "      <td>Action, Drama, Musical</td>\n",
       "      <td>1650</td>\n",
       "    </tr>\n",
       "    <tr>\n",
       "      <th>26</th>\n",
       "      <td>Mother India</td>\n",
       "      <td>8.1</td>\n",
       "      <td>1957</td>\n",
       "      <td>172</td>\n",
       "      <td>Drama, Musical, Family</td>\n",
       "      <td>6979</td>\n",
       "    </tr>\n",
       "    <tr>\n",
       "      <th>27</th>\n",
       "      <td>Gunga Jumna</td>\n",
       "      <td>7.6</td>\n",
       "      <td>1961</td>\n",
       "      <td>178</td>\n",
       "      <td>Action, Drama, Musical</td>\n",
       "      <td>416</td>\n",
       "    </tr>\n",
       "    <tr>\n",
       "      <th>28</th>\n",
       "      <td>Devdas</td>\n",
       "      <td>8.0</td>\n",
       "      <td>1955</td>\n",
       "      <td>159</td>\n",
       "      <td>Drama, Musical, Romance</td>\n",
       "      <td>1490</td>\n",
       "    </tr>\n",
       "    <tr>\n",
       "      <th>29</th>\n",
       "      <td>Pyaasa</td>\n",
       "      <td>8.5</td>\n",
       "      <td>1957</td>\n",
       "      <td>146</td>\n",
       "      <td>Drama, Musical, Romance</td>\n",
       "      <td>4234</td>\n",
       "    </tr>\n",
       "    <tr>\n",
       "      <th>...</th>\n",
       "      <td>...</td>\n",
       "      <td>...</td>\n",
       "      <td>...</td>\n",
       "      <td>...</td>\n",
       "      <td>...</td>\n",
       "      <td>...</td>\n",
       "    </tr>\n",
       "    <tr>\n",
       "      <th>170</th>\n",
       "      <td>Oye Lucky! Lucky Oye!</td>\n",
       "      <td>7.8</td>\n",
       "      <td>2008</td>\n",
       "      <td>125</td>\n",
       "      <td>Comedy, Crime, Drama</td>\n",
       "      <td>13425</td>\n",
       "    </tr>\n",
       "    <tr>\n",
       "      <th>171</th>\n",
       "      <td>Khosla Ka Ghosla!</td>\n",
       "      <td>8.3</td>\n",
       "      <td>2006</td>\n",
       "      <td>135</td>\n",
       "      <td>Comedy, Crime, Drama</td>\n",
       "      <td>17792</td>\n",
       "    </tr>\n",
       "    <tr>\n",
       "      <th>172</th>\n",
       "      <td>Kotwal Saab</td>\n",
       "      <td>5.9</td>\n",
       "      <td>1977</td>\n",
       "      <td>nan</td>\n",
       "      <td>Action, Crime, Drama</td>\n",
       "      <td>17</td>\n",
       "    </tr>\n",
       "    <tr>\n",
       "      <th>173</th>\n",
       "      <td>Safar</td>\n",
       "      <td>7.3</td>\n",
       "      <td>1970</td>\n",
       "      <td>137</td>\n",
       "      <td>Drama, Romance</td>\n",
       "      <td>293</td>\n",
       "    </tr>\n",
       "    <tr>\n",
       "      <th>174</th>\n",
       "      <td>Main Azaad Hoon</td>\n",
       "      <td>7.3</td>\n",
       "      <td>1989</td>\n",
       "      <td>160</td>\n",
       "      <td>Drama</td>\n",
       "      <td>606</td>\n",
       "    </tr>\n",
       "    <tr>\n",
       "      <th>175</th>\n",
       "      <td>Parvarish</td>\n",
       "      <td>7.0</td>\n",
       "      <td>1977</td>\n",
       "      <td>162</td>\n",
       "      <td>Action, Crime, Drama</td>\n",
       "      <td>735</td>\n",
       "    </tr>\n",
       "    <tr>\n",
       "      <th>176</th>\n",
       "      <td>Laawaris</td>\n",
       "      <td>7.2</td>\n",
       "      <td>1981</td>\n",
       "      <td>189</td>\n",
       "      <td>Drama, Action, Musical</td>\n",
       "      <td>1814</td>\n",
       "    </tr>\n",
       "    <tr>\n",
       "      <th>177</th>\n",
       "      <td>Rudaali</td>\n",
       "      <td>7.2</td>\n",
       "      <td>1993</td>\n",
       "      <td>128</td>\n",
       "      <td>Drama</td>\n",
       "      <td>390</td>\n",
       "    </tr>\n",
       "    <tr>\n",
       "      <th>178</th>\n",
       "      <td>Kaagaz Ke Phool</td>\n",
       "      <td>8.2</td>\n",
       "      <td>1959</td>\n",
       "      <td>148</td>\n",
       "      <td>Musical, Romance</td>\n",
       "      <td>1585</td>\n",
       "    </tr>\n",
       "    <tr>\n",
       "      <th>179</th>\n",
       "      <td>Do Bigha Zamin</td>\n",
       "      <td>8.4</td>\n",
       "      <td>1953</td>\n",
       "      <td>131</td>\n",
       "      <td>Drama</td>\n",
       "      <td>1402</td>\n",
       "    </tr>\n",
       "    <tr>\n",
       "      <th>180</th>\n",
       "      <td>Pushpak</td>\n",
       "      <td>8.7</td>\n",
       "      <td>1987</td>\n",
       "      <td>125</td>\n",
       "      <td>Comedy, Romance</td>\n",
       "      <td>2749</td>\n",
       "    </tr>\n",
       "    <tr>\n",
       "      <th>181</th>\n",
       "      <td>Salaam Bombay!</td>\n",
       "      <td>8.0</td>\n",
       "      <td>1988</td>\n",
       "      <td>113</td>\n",
       "      <td>Crime, Drama</td>\n",
       "      <td>7389</td>\n",
       "    </tr>\n",
       "    <tr>\n",
       "      <th>182</th>\n",
       "      <td>Roja</td>\n",
       "      <td>8.2</td>\n",
       "      <td>1992</td>\n",
       "      <td>137</td>\n",
       "      <td>Drama, Romance, Thriller</td>\n",
       "      <td>9035</td>\n",
       "    </tr>\n",
       "    <tr>\n",
       "      <th>183</th>\n",
       "      <td>Love Ke Liye Kuch Bhi Karega</td>\n",
       "      <td>6.1</td>\n",
       "      <td>2001</td>\n",
       "      <td>131</td>\n",
       "      <td>Comedy, Crime, Romance</td>\n",
       "      <td>1311</td>\n",
       "    </tr>\n",
       "    <tr>\n",
       "      <th>184</th>\n",
       "      <td>Teesri Manzil</td>\n",
       "      <td>7.8</td>\n",
       "      <td>1966</td>\n",
       "      <td>172</td>\n",
       "      <td>Comedy, Musical, Mystery</td>\n",
       "      <td>862</td>\n",
       "    </tr>\n",
       "    <tr>\n",
       "      <th>185</th>\n",
       "      <td>Paa</td>\n",
       "      <td>7.2</td>\n",
       "      <td>2009</td>\n",
       "      <td>133</td>\n",
       "      <td>Comedy, Drama</td>\n",
       "      <td>9903</td>\n",
       "    </tr>\n",
       "    <tr>\n",
       "      <th>186</th>\n",
       "      <td>Satyakam</td>\n",
       "      <td>8.2</td>\n",
       "      <td>1969</td>\n",
       "      <td>175</td>\n",
       "      <td>Drama</td>\n",
       "      <td>542</td>\n",
       "    </tr>\n",
       "    <tr>\n",
       "      <th>187</th>\n",
       "      <td>Lage Raho Munna Bhai</td>\n",
       "      <td>8.1</td>\n",
       "      <td>2006</td>\n",
       "      <td>144</td>\n",
       "      <td>Comedy, Drama, Fantasy</td>\n",
       "      <td>35139</td>\n",
       "    </tr>\n",
       "    <tr>\n",
       "      <th>188</th>\n",
       "      <td>Dil Hai Ki Manta Nahin</td>\n",
       "      <td>7.4</td>\n",
       "      <td>1991</td>\n",
       "      <td>154</td>\n",
       "      <td>Adventure, Comedy, Drama</td>\n",
       "      <td>3190</td>\n",
       "    </tr>\n",
       "    <tr>\n",
       "      <th>189</th>\n",
       "      <td>Hazaaron Khwaishein Aisi</td>\n",
       "      <td>8.0</td>\n",
       "      <td>2003</td>\n",
       "      <td>120</td>\n",
       "      <td>Drama</td>\n",
       "      <td>4187</td>\n",
       "    </tr>\n",
       "    <tr>\n",
       "      <th>190</th>\n",
       "      <td>Hip Hip Hurray</td>\n",
       "      <td>7.5</td>\n",
       "      <td>1984</td>\n",
       "      <td>nan</td>\n",
       "      <td>Drama, Sport</td>\n",
       "      <td>68</td>\n",
       "    </tr>\n",
       "    <tr>\n",
       "      <th>191</th>\n",
       "      <td>Padosan</td>\n",
       "      <td>8.1</td>\n",
       "      <td>1968</td>\n",
       "      <td>157</td>\n",
       "      <td>Comedy, Musical, Romance</td>\n",
       "      <td>4803</td>\n",
       "    </tr>\n",
       "    <tr>\n",
       "      <th>192</th>\n",
       "      <td>Border</td>\n",
       "      <td>7.9</td>\n",
       "      <td>1997</td>\n",
       "      <td>176</td>\n",
       "      <td>Action, Drama, History</td>\n",
       "      <td>10574</td>\n",
       "    </tr>\n",
       "    <tr>\n",
       "      <th>193</th>\n",
       "      <td>Aakrosh</td>\n",
       "      <td>8.0</td>\n",
       "      <td>1980</td>\n",
       "      <td>144</td>\n",
       "      <td>Drama, Mystery, Thriller</td>\n",
       "      <td>592</td>\n",
       "    </tr>\n",
       "    <tr>\n",
       "      <th>194</th>\n",
       "      <td>Jagte Raho</td>\n",
       "      <td>8.4</td>\n",
       "      <td>1956</td>\n",
       "      <td>153</td>\n",
       "      <td>Comedy, Drama</td>\n",
       "      <td>731</td>\n",
       "    </tr>\n",
       "    <tr>\n",
       "      <th>195</th>\n",
       "      <td>Naya Zamana</td>\n",
       "      <td>6.9</td>\n",
       "      <td>1971</td>\n",
       "      <td>151</td>\n",
       "      <td>Drama, Musical</td>\n",
       "      <td>75</td>\n",
       "    </tr>\n",
       "    <tr>\n",
       "      <th>196</th>\n",
       "      <td>Vidhaata</td>\n",
       "      <td>7.1</td>\n",
       "      <td>1982</td>\n",
       "      <td>168</td>\n",
       "      <td>Action, Drama</td>\n",
       "      <td>246</td>\n",
       "    </tr>\n",
       "    <tr>\n",
       "      <th>197</th>\n",
       "      <td>Kanoon</td>\n",
       "      <td>7.8</td>\n",
       "      <td>1960</td>\n",
       "      <td>150</td>\n",
       "      <td>Drama, Crime, Mystery</td>\n",
       "      <td>272</td>\n",
       "    </tr>\n",
       "    <tr>\n",
       "      <th>198</th>\n",
       "      <td>Prahaar: The Final Attack</td>\n",
       "      <td>8.0</td>\n",
       "      <td>1991</td>\n",
       "      <td>166</td>\n",
       "      <td>Drama, Thriller, Action</td>\n",
       "      <td>1638</td>\n",
       "    </tr>\n",
       "    <tr>\n",
       "      <th>199</th>\n",
       "      <td>Haqeeqat</td>\n",
       "      <td>7.8</td>\n",
       "      <td>1964</td>\n",
       "      <td>184</td>\n",
       "      <td>Action, Musical, War</td>\n",
       "      <td>368</td>\n",
       "    </tr>\n",
       "  </tbody>\n",
       "</table>\n",
       "<p>200 rows × 6 columns</p>\n",
       "</div>"
      ],
      "text/plain": [
       "                      Movie Title  IMDB rating Year of release  \\\n",
       "0                          Sholay          8.2            1975   \n",
       "1                         Deewaar          8.1            1975   \n",
       "2                          Haasil          7.7            2003   \n",
       "3                          Masoom          8.5            1983   \n",
       "4             Munna Bhai M.B.B.S.          8.2            2003   \n",
       "5                 Rang De Basanti          8.3            2006   \n",
       "6                       Agneepath          7.7            1990   \n",
       "7                           Anand          8.8            1971   \n",
       "8          Jo Jeeta Wohi Sikandar          8.2            1992   \n",
       "9                           Satya          8.2            1998   \n",
       "10         Swades: We, the People          8.3            2004   \n",
       "11                        Maqbool          8.2            2003   \n",
       "12                           Naam          7.6            1986   \n",
       "13                Chashme Buddoor          8.0            1981   \n",
       "14                       Gol Maal          8.6            1979   \n",
       "15                          Shiva          8.2            1989   \n",
       "16                          Dev.D          8.1            2009   \n",
       "17            Jaane Bhi Do Yaaron          7.1            2007   \n",
       "18                            Don          7.8            1978   \n",
       "19                  Chupke Chupke          8.5            1975   \n",
       "20                        Parinda          7.9            1989   \n",
       "21                         Manzil          7.1            1979   \n",
       "22                       Khamoshi          7.8            1970   \n",
       "23                     Ardh Satya          8.2            1983   \n",
       "24                         Ghayal          7.7            1990   \n",
       "25                        Trishul          7.8            1978   \n",
       "26                   Mother India          8.1            1957   \n",
       "27                    Gunga Jumna          7.6            1961   \n",
       "28                         Devdas          8.0            1955   \n",
       "29                         Pyaasa          8.5            1957   \n",
       "..                            ...          ...             ...   \n",
       "170         Oye Lucky! Lucky Oye!          7.8            2008   \n",
       "171             Khosla Ka Ghosla!          8.3            2006   \n",
       "172                   Kotwal Saab          5.9            1977   \n",
       "173                         Safar          7.3            1970   \n",
       "174               Main Azaad Hoon          7.3            1989   \n",
       "175                     Parvarish          7.0            1977   \n",
       "176                      Laawaris          7.2            1981   \n",
       "177                       Rudaali          7.2            1993   \n",
       "178               Kaagaz Ke Phool          8.2            1959   \n",
       "179                Do Bigha Zamin          8.4            1953   \n",
       "180                       Pushpak          8.7            1987   \n",
       "181                Salaam Bombay!          8.0            1988   \n",
       "182                          Roja          8.2            1992   \n",
       "183  Love Ke Liye Kuch Bhi Karega          6.1            2001   \n",
       "184                 Teesri Manzil          7.8            1966   \n",
       "185                           Paa          7.2            2009   \n",
       "186                      Satyakam          8.2            1969   \n",
       "187          Lage Raho Munna Bhai          8.1            2006   \n",
       "188        Dil Hai Ki Manta Nahin          7.4            1991   \n",
       "189      Hazaaron Khwaishein Aisi          8.0            2003   \n",
       "190                Hip Hip Hurray          7.5            1984   \n",
       "191                       Padosan          8.1            1968   \n",
       "192                        Border          7.9            1997   \n",
       "193                       Aakrosh          8.0            1980   \n",
       "194                    Jagte Raho          8.4            1956   \n",
       "195                   Naya Zamana          6.9            1971   \n",
       "196                      Vidhaata          7.1            1982   \n",
       "197                        Kanoon          7.8            1960   \n",
       "198     Prahaar: The Final Attack          8.0            1991   \n",
       "199                      Haqeeqat          7.8            1964   \n",
       "\n",
       "    Running_time_min                                  Genre  Number of Votes  \n",
       "0                198  Action, Adventure, Comedy                        43462  \n",
       "1                174       Action, Crime, Drama                         8193  \n",
       "2                160      Crime, Drama, Romance                         2263  \n",
       "3                165     Drama, Family, Musical                         2939  \n",
       "4                156     Comedy, Drama, Musical                        58970  \n",
       "5                157              Comedy, Drama                        93108  \n",
       "6                174       Action, Crime, Drama                         6836  \n",
       "7                122                      Drama                        19598  \n",
       "8                174     Comedy, Drama, Romance                        17963  \n",
       "9                170       Action, Crime, Drama                        10464  \n",
       "10               210                      Drama                        69456  \n",
       "11               132               Crime, Drama                         6836  \n",
       "12               177     Crime, Drama, Thriller                          725  \n",
       "13               145    Comedy, Family, Romance                         1883  \n",
       "14               120            Comedy, Romance                        13730  \n",
       "15               145                     Action                         2214  \n",
       "16               144     Comedy, Drama, Romance                        24340  \n",
       "17               nan                     Comedy                          185  \n",
       "18               175    Action, Crime, Thriller                         8956  \n",
       "19               146     Comedy, Drama, Romance                         8950  \n",
       "20               154       Action, Crime, Drama                         2580  \n",
       "21               113     Drama, Romance, Family                          211  \n",
       "22               127   Family, Musical, Romance                          446  \n",
       "23               130               Crime, Drama                         1309  \n",
       "24               163       Action, Crime, Drama                         3210  \n",
       "25               167     Action, Drama, Musical                         1650  \n",
       "26               172     Drama, Musical, Family                         6979  \n",
       "27               178     Action, Drama, Musical                          416  \n",
       "28               159    Drama, Musical, Romance                         1490  \n",
       "29               146    Drama, Musical, Romance                         4234  \n",
       "..               ...                                    ...              ...  \n",
       "170              125       Comedy, Crime, Drama                        13425  \n",
       "171              135       Comedy, Crime, Drama                        17792  \n",
       "172              nan       Action, Crime, Drama                           17  \n",
       "173              137             Drama, Romance                          293  \n",
       "174              160                      Drama                          606  \n",
       "175              162       Action, Crime, Drama                          735  \n",
       "176              189     Drama, Action, Musical                         1814  \n",
       "177              128                      Drama                          390  \n",
       "178              148           Musical, Romance                         1585  \n",
       "179              131                      Drama                         1402  \n",
       "180              125            Comedy, Romance                         2749  \n",
       "181              113               Crime, Drama                         7389  \n",
       "182              137   Drama, Romance, Thriller                         9035  \n",
       "183              131     Comedy, Crime, Romance                         1311  \n",
       "184              172   Comedy, Musical, Mystery                          862  \n",
       "185              133              Comedy, Drama                         9903  \n",
       "186              175                      Drama                          542  \n",
       "187              144     Comedy, Drama, Fantasy                        35139  \n",
       "188              154   Adventure, Comedy, Drama                         3190  \n",
       "189              120                      Drama                         4187  \n",
       "190              nan               Drama, Sport                           68  \n",
       "191              157   Comedy, Musical, Romance                         4803  \n",
       "192              176     Action, Drama, History                        10574  \n",
       "193              144   Drama, Mystery, Thriller                          592  \n",
       "194              153              Comedy, Drama                          731  \n",
       "195              151             Drama, Musical                           75  \n",
       "196              168              Action, Drama                          246  \n",
       "197              150      Drama, Crime, Mystery                          272  \n",
       "198              166    Drama, Thriller, Action                         1638  \n",
       "199              184       Action, Musical, War                          368  \n",
       "\n",
       "[200 rows x 6 columns]"
      ]
     },
     "execution_count": 74,
     "metadata": {},
     "output_type": "execute_result"
    }
   ],
   "source": [
    "df"
   ]
  },
  {
   "cell_type": "code",
   "execution_count": 75,
   "metadata": {
    "collapsed": true
   },
   "outputs": [],
   "source": [
    "df.to_csv('Top200_Movies.csv')"
   ]
  },
  {
   "cell_type": "markdown",
   "metadata": {
    "collapsed": true
   },
   "source": [
    "## Analysis and Visualizations"
   ]
  },
  {
   "cell_type": "code",
   "execution_count": 76,
   "metadata": {
    "collapsed": true
   },
   "outputs": [],
   "source": [
    "import numpy as np"
   ]
  },
  {
   "cell_type": "code",
   "execution_count": 77,
   "metadata": {},
   "outputs": [
    {
     "data": {
      "text/plain": [
       "(200, 6)"
      ]
     },
     "execution_count": 77,
     "metadata": {},
     "output_type": "execute_result"
    }
   ],
   "source": [
    "df.shape"
   ]
  },
  {
   "cell_type": "code",
   "execution_count": 78,
   "metadata": {},
   "outputs": [
    {
     "name": "stdout",
     "output_type": "stream",
     "text": [
      "<class 'pandas.core.frame.DataFrame'>\n",
      "RangeIndex: 200 entries, 0 to 199\n",
      "Data columns (total 6 columns):\n",
      "Movie Title         200 non-null object\n",
      "IMDB rating         200 non-null float64\n",
      "Year of release     200 non-null object\n",
      "Running_time_min    200 non-null object\n",
      "Genre               200 non-null object\n",
      "Number of Votes     200 non-null int64\n",
      "dtypes: float64(1), int64(1), object(4)\n",
      "memory usage: 9.5+ KB\n"
     ]
    }
   ],
   "source": [
    "df.info()"
   ]
  },
  {
   "cell_type": "code",
   "execution_count": 79,
   "metadata": {},
   "outputs": [
    {
     "data": {
      "text/html": [
       "<div>\n",
       "<style>\n",
       "    .dataframe thead tr:only-child th {\n",
       "        text-align: right;\n",
       "    }\n",
       "\n",
       "    .dataframe thead th {\n",
       "        text-align: left;\n",
       "    }\n",
       "\n",
       "    .dataframe tbody tr th {\n",
       "        vertical-align: top;\n",
       "    }\n",
       "</style>\n",
       "<table border=\"1\" class=\"dataframe\">\n",
       "  <thead>\n",
       "    <tr style=\"text-align: right;\">\n",
       "      <th></th>\n",
       "      <th>Movie Title</th>\n",
       "      <th>Year of release</th>\n",
       "      <th>Running_time_min</th>\n",
       "      <th>Genre</th>\n",
       "    </tr>\n",
       "  </thead>\n",
       "  <tbody>\n",
       "    <tr>\n",
       "      <th>count</th>\n",
       "      <td>200</td>\n",
       "      <td>200</td>\n",
       "      <td>200</td>\n",
       "      <td>200</td>\n",
       "    </tr>\n",
       "    <tr>\n",
       "      <th>unique</th>\n",
       "      <td>200</td>\n",
       "      <td>58</td>\n",
       "      <td>80</td>\n",
       "      <td>77</td>\n",
       "    </tr>\n",
       "    <tr>\n",
       "      <th>top</th>\n",
       "      <td>Sarfarosh</td>\n",
       "      <td>1983</td>\n",
       "      <td>nan</td>\n",
       "      <td>Action, Crime, Drama</td>\n",
       "    </tr>\n",
       "    <tr>\n",
       "      <th>freq</th>\n",
       "      <td>1</td>\n",
       "      <td>7</td>\n",
       "      <td>8</td>\n",
       "      <td>23</td>\n",
       "    </tr>\n",
       "  </tbody>\n",
       "</table>\n",
       "</div>"
      ],
      "text/plain": [
       "       Movie Title Year of release Running_time_min  \\\n",
       "count          200             200              200   \n",
       "unique         200              58               80   \n",
       "top      Sarfarosh            1983              nan   \n",
       "freq             1               7                8   \n",
       "\n",
       "                                   Genre  \n",
       "count                                200  \n",
       "unique                                77  \n",
       "top     Action, Crime, Drama              \n",
       "freq                                  23  "
      ]
     },
     "execution_count": 79,
     "metadata": {},
     "output_type": "execute_result"
    }
   ],
   "source": [
    "df.describe(include=[\"O\"])"
   ]
  },
  {
   "cell_type": "code",
   "execution_count": 80,
   "metadata": {},
   "outputs": [
    {
     "data": {
      "text/html": [
       "<div>\n",
       "<style>\n",
       "    .dataframe thead tr:only-child th {\n",
       "        text-align: right;\n",
       "    }\n",
       "\n",
       "    .dataframe thead th {\n",
       "        text-align: left;\n",
       "    }\n",
       "\n",
       "    .dataframe tbody tr th {\n",
       "        vertical-align: top;\n",
       "    }\n",
       "</style>\n",
       "<table border=\"1\" class=\"dataframe\">\n",
       "  <thead>\n",
       "    <tr style=\"text-align: right;\">\n",
       "      <th></th>\n",
       "      <th>IMDB rating</th>\n",
       "      <th>Number of Votes</th>\n",
       "    </tr>\n",
       "  </thead>\n",
       "  <tbody>\n",
       "    <tr>\n",
       "      <th>count</th>\n",
       "      <td>200.000000</td>\n",
       "      <td>200.000000</td>\n",
       "    </tr>\n",
       "    <tr>\n",
       "      <th>mean</th>\n",
       "      <td>7.609500</td>\n",
       "      <td>9514.205000</td>\n",
       "    </tr>\n",
       "    <tr>\n",
       "      <th>std</th>\n",
       "      <td>0.605552</td>\n",
       "      <td>25447.111128</td>\n",
       "    </tr>\n",
       "    <tr>\n",
       "      <th>min</th>\n",
       "      <td>5.600000</td>\n",
       "      <td>17.000000</td>\n",
       "    </tr>\n",
       "    <tr>\n",
       "      <th>25%</th>\n",
       "      <td>7.200000</td>\n",
       "      <td>537.000000</td>\n",
       "    </tr>\n",
       "    <tr>\n",
       "      <th>50%</th>\n",
       "      <td>7.700000</td>\n",
       "      <td>1647.500000</td>\n",
       "    </tr>\n",
       "    <tr>\n",
       "      <th>75%</th>\n",
       "      <td>8.100000</td>\n",
       "      <td>8259.000000</td>\n",
       "    </tr>\n",
       "    <tr>\n",
       "      <th>max</th>\n",
       "      <td>8.800000</td>\n",
       "      <td>273304.000000</td>\n",
       "    </tr>\n",
       "  </tbody>\n",
       "</table>\n",
       "</div>"
      ],
      "text/plain": [
       "       IMDB rating  Number of Votes\n",
       "count   200.000000       200.000000\n",
       "mean      7.609500      9514.205000\n",
       "std       0.605552     25447.111128\n",
       "min       5.600000        17.000000\n",
       "25%       7.200000       537.000000\n",
       "50%       7.700000      1647.500000\n",
       "75%       8.100000      8259.000000\n",
       "max       8.800000    273304.000000"
      ]
     },
     "execution_count": 80,
     "metadata": {},
     "output_type": "execute_result"
    }
   ],
   "source": [
    "df.describe()"
   ]
  },
  {
   "cell_type": "markdown",
   "metadata": {},
   "source": [
    "### Check for Missing Values"
   ]
  },
  {
   "cell_type": "code",
   "execution_count": 81,
   "metadata": {
    "collapsed": true
   },
   "outputs": [],
   "source": [
    "# df[(df['Running_time_min'] == 'nan')] "
   ]
  },
  {
   "cell_type": "code",
   "execution_count": 82,
   "metadata": {
    "collapsed": true
   },
   "outputs": [],
   "source": [
    "# df[(df['Genre'] == 'nan')] "
   ]
  },
  {
   "cell_type": "code",
   "execution_count": 83,
   "metadata": {
    "collapsed": true
   },
   "outputs": [],
   "source": [
    "df['Running_time_min'] = df.Running_time_min.replace('nan',np.nan)"
   ]
  },
  {
   "cell_type": "code",
   "execution_count": 84,
   "metadata": {
    "collapsed": true
   },
   "outputs": [],
   "source": [
    "df['Genre'] = df.Genre.replace('nan','NA')"
   ]
  },
  {
   "cell_type": "code",
   "execution_count": 85,
   "metadata": {},
   "outputs": [
    {
     "data": {
      "text/plain": [
       "Movie Title         0\n",
       "IMDB rating         0\n",
       "Year of release     0\n",
       "Running_time_min    8\n",
       "Genre               0\n",
       "Number of Votes     0\n",
       "dtype: int64"
      ]
     },
     "execution_count": 85,
     "metadata": {},
     "output_type": "execute_result"
    }
   ],
   "source": [
    "df.isnull().sum()"
   ]
  },
  {
   "cell_type": "code",
   "execution_count": 86,
   "metadata": {
    "collapsed": true
   },
   "outputs": [],
   "source": [
    "#  df['Genre'][0]"
   ]
  },
  {
   "cell_type": "code",
   "execution_count": 87,
   "metadata": {
    "collapsed": true
   },
   "outputs": [],
   "source": [
    "# from IPython.core.magic import register_line_magic\n",
    "\n",
    "# @register_line_magic\n",
    "# def pip(args):\n",
    "#     \"\"\"Use pip from the current kernel\"\"\"\n",
    "#     from pip import main\n",
    "#     main(args.split())\n"
   ]
  },
  {
   "cell_type": "code",
   "execution_count": 88,
   "metadata": {
    "collapsed": true
   },
   "outputs": [],
   "source": [
    "# %pip install wordcloud"
   ]
  },
  {
   "cell_type": "markdown",
   "metadata": {},
   "source": [
    "## Visualization"
   ]
  },
  {
   "cell_type": "code",
   "execution_count": 89,
   "metadata": {},
   "outputs": [
    {
     "data": {
      "image/png": "[encoded data removed]",
      "text/plain": [
       "<matplotlib.figure.Figure at 0x7f40beac72b0>"
      ]
     },
     "metadata": {},
     "output_type": "display_data"
    }
   ],
   "source": [
    "import matplotlib.pyplot as plt\n",
    "from wordcloud import WordCloud\n",
    "\n",
    "names = df['Movie Title']\n",
    "wordcloud = WordCloud(max_font_size=30, width=600, height=300).generate(' '.join(names))\n",
    "plt.figure(figsize=(15,10))\n",
    "plt.imshow(wordcloud)\n",
    "plt.title(\"Wordcloud for Movie titles\", fontsize=15)\n",
    "plt.axis(\"off\")\n",
    "plt.show() "
   ]
  },
  {
   "cell_type": "code",
   "execution_count": 90,
   "metadata": {},
   "outputs": [
    {
     "data": {
      "text/plain": [
       "Movie Title         200\n",
       "IMDB rating          30\n",
       "Year of release      58\n",
       "Running_time_min     79\n",
       "Genre                77\n",
       "Number of Votes     196\n",
       "dtype: int64"
      ]
     },
     "execution_count": 90,
     "metadata": {},
     "output_type": "execute_result"
    }
   ],
   "source": [
    "df.nunique()"
   ]
  },
  {
   "cell_type": "code",
   "execution_count": 91,
   "metadata": {},
   "outputs": [
    {
     "name": "stdout",
     "output_type": "stream",
     "text": [
      "[5, 6, 7, 8]\n"
     ]
    }
   ],
   "source": [
    "print(list(range(5,9,1)))"
   ]
  },
  {
   "cell_type": "code",
   "execution_count": 92,
   "metadata": {},
   "outputs": [
    {
     "data": {
      "image/png": "[encoded data removed]",
      "text/plain": [
       "<matplotlib.figure.Figure at 0x7f40be0f9128>"
      ]
     },
     "metadata": {},
     "output_type": "display_data"
    }
   ],
   "source": [
    "plt.subplots(figsize=(15,8))\n",
    "df['IMDB rating'].hist(bins=20,edgecolor='black')\n",
    "plt.xticks([5.5,6, 6.5,7 ,7.5, 8, 8.5])\n",
    "plt.title('IMDB rating Distribution')\n",
    "plt.show() "
   ]
  },
  {
   "cell_type": "code",
   "execution_count": 93,
   "metadata": {
    "collapsed": true
   },
   "outputs": [],
   "source": [
    "df = df.set_index('Movie Title')"
   ]
  },
  {
   "cell_type": "code",
   "execution_count": 94,
   "metadata": {},
   "outputs": [
    {
     "data": {
      "text/html": [
       "<div>\n",
       "<style>\n",
       "    .dataframe thead tr:only-child th {\n",
       "        text-align: right;\n",
       "    }\n",
       "\n",
       "    .dataframe thead th {\n",
       "        text-align: left;\n",
       "    }\n",
       "\n",
       "    .dataframe tbody tr th {\n",
       "        vertical-align: top;\n",
       "    }\n",
       "</style>\n",
       "<table border=\"1\" class=\"dataframe\">\n",
       "  <thead>\n",
       "    <tr style=\"text-align: right;\">\n",
       "      <th></th>\n",
       "      <th>IMDB rating</th>\n",
       "      <th>Year of release</th>\n",
       "      <th>Running_time_min</th>\n",
       "      <th>Genre</th>\n",
       "      <th>Number of Votes</th>\n",
       "    </tr>\n",
       "    <tr>\n",
       "      <th>Movie Title</th>\n",
       "      <th></th>\n",
       "      <th></th>\n",
       "      <th></th>\n",
       "      <th></th>\n",
       "      <th></th>\n",
       "    </tr>\n",
       "  </thead>\n",
       "  <tbody>\n",
       "    <tr>\n",
       "      <th>Sholay</th>\n",
       "      <td>8.2</td>\n",
       "      <td>1975</td>\n",
       "      <td>198.0</td>\n",
       "      <td>Action, Adventure, Comedy</td>\n",
       "      <td>43462</td>\n",
       "    </tr>\n",
       "    <tr>\n",
       "      <th>Deewaar</th>\n",
       "      <td>8.1</td>\n",
       "      <td>1975</td>\n",
       "      <td>174.0</td>\n",
       "      <td>Action, Crime, Drama</td>\n",
       "      <td>8193</td>\n",
       "    </tr>\n",
       "    <tr>\n",
       "      <th>Haasil</th>\n",
       "      <td>7.7</td>\n",
       "      <td>2003</td>\n",
       "      <td>160.0</td>\n",
       "      <td>Crime, Drama, Romance</td>\n",
       "      <td>2263</td>\n",
       "    </tr>\n",
       "    <tr>\n",
       "      <th>Masoom</th>\n",
       "      <td>8.5</td>\n",
       "      <td>1983</td>\n",
       "      <td>165.0</td>\n",
       "      <td>Drama, Family, Musical</td>\n",
       "      <td>2939</td>\n",
       "    </tr>\n",
       "    <tr>\n",
       "      <th>Munna Bhai M.B.B.S.</th>\n",
       "      <td>8.2</td>\n",
       "      <td>2003</td>\n",
       "      <td>156.0</td>\n",
       "      <td>Comedy, Drama, Musical</td>\n",
       "      <td>58970</td>\n",
       "    </tr>\n",
       "  </tbody>\n",
       "</table>\n",
       "</div>"
      ],
      "text/plain": [
       "                     IMDB rating Year of release  Running_time_min  \\\n",
       "Movie Title                                                          \n",
       "Sholay                       8.2            1975             198.0   \n",
       "Deewaar                      8.1            1975             174.0   \n",
       "Haasil                       7.7            2003             160.0   \n",
       "Masoom                       8.5            1983             165.0   \n",
       "Munna Bhai M.B.B.S.          8.2            2003             156.0   \n",
       "\n",
       "                                                     Genre  Number of Votes  \n",
       "Movie Title                                                                  \n",
       "Sholay               Action, Adventure, Comedy                        43462  \n",
       "Deewaar                   Action, Crime, Drama                         8193  \n",
       "Haasil                   Crime, Drama, Romance                         2263  \n",
       "Masoom                  Drama, Family, Musical                         2939  \n",
       "Munna Bhai M.B.B.S.     Comedy, Drama, Musical                        58970  "
      ]
     },
     "execution_count": 94,
     "metadata": {},
     "output_type": "execute_result"
    }
   ],
   "source": [
    "df.head()"
   ]
  },
  {
   "cell_type": "code",
   "execution_count": 95,
   "metadata": {},
   "outputs": [
    {
     "name": "stdout",
     "output_type": "stream",
     "text": [
      "Top 20 highly rated movies are \n",
      " Movie Title\n",
      "Anand                     8.8\n",
      "Pushpak                   8.7\n",
      "Koshish                   8.7\n",
      "Gol Maal                  8.6\n",
      "Chupke Chupke             8.5\n",
      "Pyaasa                    8.5\n",
      "Masoom                    8.5\n",
      "Sadma                     8.5\n",
      "Do Bigha Zamin            8.4\n",
      "Angoor                    8.4\n",
      "Jagte Raho                8.4\n",
      "Sahib Bibi Aur Ghulam     8.4\n",
      "Taare Zameen Par          8.4\n",
      "3 Idiots                  8.4\n",
      "Chhoti Si Baat            8.4\n",
      "Mughal-E-Azam             8.4\n",
      "Khosla Ka Ghosla!         8.3\n",
      "Swades: We, the People    8.3\n",
      "Ijaazat                   8.3\n",
      "Rang De Basanti           8.3\n",
      "Name: IMDB rating, dtype: float64\n"
     ]
    }
   ],
   "source": [
    "print ('Top 20 highly rated movies are \\n', df.sort_values('IMDB rating',ascending = False)['IMDB rating'].head(20))"
   ]
  },
  {
   "cell_type": "code",
   "execution_count": 96,
   "metadata": {},
   "outputs": [
    {
     "name": "stdout",
     "output_type": "stream",
     "text": [
      "Top 20 most voted movies are \n",
      " Movie Title\n",
      "3 Idiots                             273304\n",
      "Taare Zameen Par                     124544\n",
      "Rang De Basanti                       93108\n",
      "Lagaan: Once Upon a Time in India     86878\n",
      "Swades: We, the People                69456\n",
      "A Wednesday                           62913\n",
      "Gangs of Wasseypur                    61826\n",
      "Chak De! India                        61367\n",
      "Munna Bhai M.B.B.S.                   58970\n",
      "Dil Chahta Hai                        57431\n",
      "Dilwale Dulhania Le Jayenge           53786\n",
      "Sholay                                43462\n",
      "Andaz Apna Apna                       42792\n",
      "Lage Raho Munna Bhai                  35139\n",
      "Black                                 29139\n",
      "Paan Singh Tomar                      27367\n",
      "Dev.D                                 24340\n",
      "Dil Se..                              22913\n",
      "Sarfarosh                             20631\n",
      "Anand                                 19598\n",
      "Name: Number of Votes, dtype: int64\n"
     ]
    }
   ],
   "source": [
    "print ('Top 20 most voted movies are \\n', df.sort_values('Number of Votes',ascending = False)['Number of Votes'].head(20))"
   ]
  },
  {
   "cell_type": "code",
   "execution_count": 97,
   "metadata": {
    "collapsed": true
   },
   "outputs": [],
   "source": [
    "# df.sort_values('Number of Votes',ascending = False)['Number of Votes'].head(20).plot.bar()\n",
    "# plt.show()"
   ]
  },
  {
   "cell_type": "code",
   "execution_count": 98,
   "metadata": {},
   "outputs": [
    {
     "data": {
      "image/png": "[encoded data removed]",
      "text/plain": [
       "<matplotlib.figure.Figure at 0x7f40976687b8>"
      ]
     },
     "metadata": {},
     "output_type": "display_data"
    }
   ],
   "source": [
    "import seaborn as sns \n",
    "plt.figure(figsize=(15,15))\n",
    "sector_name = df.sort_values('Number of Votes',ascending = False)['Number of Votes'].head(30)\n",
    "sns.barplot(sector_name.values, sector_name.index)\n",
    "for i, v in enumerate(sector_name.values):\n",
    "    plt.text(0.8,i,v,color='k',fontsize=15)\n",
    "plt.xticks(rotation='vertical')\n",
    "plt.xlabel('Votes Count')\n",
    "plt.ylabel('Movie Title')\n",
    "plt.title(\"Vote Distribution of top 30 Higly voted movies\")\n",
    "plt.show()"
   ]
  },
  {
   "cell_type": "code",
   "execution_count": 99,
   "metadata": {
    "collapsed": true
   },
   "outputs": [],
   "source": [
    "df.Running_time_min = df.Running_time_min.astype(float)"
   ]
  },
  {
   "cell_type": "code",
   "execution_count": 100,
   "metadata": {},
   "outputs": [
    {
     "data": {
      "text/plain": [
       "count    192.000000\n",
       "mean     152.432292\n",
       "std       25.383459\n",
       "min       93.000000\n",
       "25%      135.000000\n",
       "50%      153.000000\n",
       "75%      166.250000\n",
       "max      321.000000\n",
       "Name: Running_time_min, dtype: float64"
      ]
     },
     "execution_count": 100,
     "metadata": {},
     "output_type": "execute_result"
    }
   ],
   "source": [
    "df.Running_time_min.describe()"
   ]
  },
  {
   "cell_type": "code",
   "execution_count": 101,
   "metadata": {},
   "outputs": [
    {
     "name": "stdout",
     "output_type": "stream",
     "text": [
      "Top 5 longest movies are \n",
      " Movie Title\n",
      "Gangs of Wasseypur                   321.0\n",
      "Lagaan: Once Upon a Time in India    224.0\n",
      "Swades: We, the People               210.0\n",
      "Sholay                               198.0\n",
      "Mughal-E-Azam                        197.0\n",
      "Name: Running_time_min, dtype: float64\n"
     ]
    }
   ],
   "source": [
    "print ('Top 5 longest movies are \\n', df.sort_values('Running_time_min',ascending = False)['Running_time_min'].head(5))"
   ]
  },
  {
   "cell_type": "code",
   "execution_count": 102,
   "metadata": {},
   "outputs": [
    {
     "name": "stdout",
     "output_type": "stream",
     "text": [
      "Top 5 shortest movies are \n",
      " Movie Title\n",
      "Parwana         93.0\n",
      "Achanak         96.0\n",
      "A Wednesday    104.0\n",
      "Madhumati      110.0\n",
      "Rajnigandha    110.0\n",
      "Name: Running_time_min, dtype: float64\n"
     ]
    }
   ],
   "source": [
    "print ('Top 5 shortest movies are \\n', df.sort_values('Running_time_min',ascending = True)['Running_time_min'].head(5))"
   ]
  },
  {
   "cell_type": "code",
   "execution_count": 103,
   "metadata": {},
   "outputs": [
    {
     "name": "stdout",
     "output_type": "stream",
     "text": [
      "Average Running time of bollywood movies is 152.43229166666666 minutes. \n"
     ]
    }
   ],
   "source": [
    "print('Average Running time of bollywood movies is',df.Running_time_min.mean(), 'minutes. ')"
   ]
  },
  {
   "cell_type": "code",
   "execution_count": 104,
   "metadata": {},
   "outputs": [
    {
     "data": {
      "text/html": [
       "<div>\n",
       "<style>\n",
       "    .dataframe thead tr:only-child th {\n",
       "        text-align: right;\n",
       "    }\n",
       "\n",
       "    .dataframe thead th {\n",
       "        text-align: left;\n",
       "    }\n",
       "\n",
       "    .dataframe tbody tr th {\n",
       "        vertical-align: top;\n",
       "    }\n",
       "</style>\n",
       "<table border=\"1\" class=\"dataframe\">\n",
       "  <thead>\n",
       "    <tr style=\"text-align: right;\">\n",
       "      <th></th>\n",
       "      <th>Number of Votes</th>\n",
       "      <th>IMDB rating</th>\n",
       "      <th>Running_time_min</th>\n",
       "    </tr>\n",
       "  </thead>\n",
       "  <tbody>\n",
       "    <tr>\n",
       "      <th>Number of Votes</th>\n",
       "      <td>1.000000</td>\n",
       "      <td>0.308614</td>\n",
       "      <td>0.229092</td>\n",
       "    </tr>\n",
       "    <tr>\n",
       "      <th>IMDB rating</th>\n",
       "      <td>0.308614</td>\n",
       "      <td>1.000000</td>\n",
       "      <td>0.023868</td>\n",
       "    </tr>\n",
       "    <tr>\n",
       "      <th>Running_time_min</th>\n",
       "      <td>0.229092</td>\n",
       "      <td>0.023868</td>\n",
       "      <td>1.000000</td>\n",
       "    </tr>\n",
       "  </tbody>\n",
       "</table>\n",
       "</div>"
      ],
      "text/plain": [
       "                  Number of Votes  IMDB rating  Running_time_min\n",
       "Number of Votes          1.000000     0.308614          0.229092\n",
       "IMDB rating              0.308614     1.000000          0.023868\n",
       "Running_time_min         0.229092     0.023868          1.000000"
      ]
     },
     "execution_count": 104,
     "metadata": {},
     "output_type": "execute_result"
    }
   ],
   "source": [
    "df[['Number of Votes','IMDB rating','Running_time_min']].corr()"
   ]
  }
 ],
 "metadata": {
  "kernelspec": {
   "display_name": "Python 3",
   "language": "python",
   "name": "python3"
  },
  "language_info": {
   "codemirror_mode": {
    "name": "ipython",
    "version": 3
   },
   "file_extension": ".py",
   "mimetype": "text/x-python",
   "name": "python",
   "nbconvert_exporter": "python",
   "pygments_lexer": "ipython3",
   "version": "3.6.1"
  }
 },
 "nbformat": 4,
 "nbformat_minor": 2
}
